{
 "cells": [
  {
   "cell_type": "markdown",
   "metadata": {},
   "source": [
    "# **Algoritmo Genético**"
   ]
  },
  {
   "cell_type": "markdown",
   "metadata": {},
   "source": [
    "## **Marcos Damián Pool Canul** & **Oscar Manuel Ruiz Reyes**"
   ]
  },
  {
   "cell_type": "code",
   "execution_count": 119,
   "metadata": {},
   "outputs": [],
   "source": [
    "import networkx as nx\n",
    "import pandas as pd\n",
    "import heapq as pq\n",
    "import matplotlib.pyplot as plt\n",
    "from random import randint, choice, random\n",
    "from tabulate import tabulate"
   ]
  },
  {
   "cell_type": "markdown",
   "metadata": {},
   "source": [
    "### Paso 1: Definir el número de vértices"
   ]
  },
  {
   "cell_type": "code",
   "execution_count": 120,
   "metadata": {},
   "outputs": [],
   "source": [
    "# Numero de vertices\n",
    "numero_vertices = 8\n",
    "\n",
    "# Tamaño de la poblacion\n",
    "poblacion_size = 10\n",
    "\n",
    "# Numero de generaciones\n",
    "generaciones = 100\n",
    "\n",
    "# Mejores individuos\n",
    "n_elite = 2\n",
    "\n",
    "# Los colores posibles\n",
    "colores = ['red', 'green', 'blue']"
   ]
  },
  {
   "cell_type": "markdown",
   "metadata": {},
   "source": [
    "### Paso 2: Colorear los vertices aleatoriamente"
   ]
  },
  {
   "cell_type": "code",
   "execution_count": 121,
   "metadata": {},
   "outputs": [],
   "source": [
    "def colorear_nodos(G, colores):\n",
    "    for nodo in G.nodes():\n",
    "        # Asignar un color aleatorio a cada nodo\n",
    "        G.nodes[nodo]['color'] = choice(colores)\n",
    "    return G"
   ]
  },
  {
   "cell_type": "code",
   "execution_count": 122,
   "metadata": {},
   "outputs": [],
   "source": [
    "def guardar_colores(G, nodo_inicial=0):\n",
    "    \"\"\"\n",
    "\t\tRealiza un recorrido DFS en el grafo G y devuelve una secuencia de nodos visitados con sus respectivos colores.\n",
    "    \"\"\"\n",
    "\n",
    "    # Lista para almacenar el número de nodo y el color\n",
    "    secuencia_colores = []\n",
    "\n",
    "    # Set para mantener un registro de los nodos visitados\n",
    "    visitados = set()\n",
    "\n",
    "    def dfs(nodo):\n",
    "        if nodo not in visitados:\n",
    "            visitados.add(nodo)\n",
    "            # Suponiendo que cada nodo tiene un atributo 'color'\n",
    "            secuencia_colores.append((G.nodes[nodo].get('color', None)))\n",
    "            for vecino in G[nodo]:\n",
    "                dfs(vecino)\n",
    "\n",
    "    # Iniciar DFS desde el nodo inicial\n",
    "    dfs(nodo_inicial)\n",
    "\n",
    "    return secuencia_colores"
   ]
  },
  {
   "cell_type": "markdown",
   "metadata": {},
   "source": [
    "### Paso 3: Controlar la impresión del grafo"
   ]
  },
  {
   "cell_type": "code",
   "execution_count": 123,
   "metadata": {},
   "outputs": [],
   "source": [
    "def grafo_conectado(numero_vertices):\n",
    "    \"\"\"\n",
    "    Crea un grafo conectado con un numero de vertices.\n",
    "    \"\"\"\n",
    "    G = nx.Graph()\n",
    "    G.add_nodes_from(range(numero_vertices))\n",
    "\n",
    "    for i in range(1, numero_vertices):\n",
    "        G.add_edge(i - 1, i)\n",
    "\n",
    "    if numero_vertices > 4:\n",
    "        for i in range(numero_vertices):\n",
    "            for j in range(i + 2, min(i + numero_vertices // 3, numero_vertices)):\n",
    "                G.add_edge(i, j)\n",
    "\n",
    "        G.add_edge(0, numero_vertices // 3)\n",
    "        G.add_edge(numero_vertices // 2, numero_vertices - 1)\n",
    "\n",
    "        if numero_vertices > 6:\n",
    "            G.add_edge(numero_vertices - 1, numero_vertices // 4)\n",
    "            G.add_edge(numero_vertices - 2, numero_vertices // 2)\n",
    "\n",
    "    return G"
   ]
  },
  {
   "cell_type": "code",
   "execution_count": 124,
   "metadata": {},
   "outputs": [],
   "source": [
    "def dibujar_grafo(G, titulo):\n",
    "    \"\"\"\n",
    "    Dibuja el grafo G con el titulo dado.\n",
    "    \"\"\"\n",
    "    plt.figure(figsize=(8, 6))\n",
    "    # Kamada-Kawai layout para dibujar el grafo\n",
    "    posiciones = nx.kamada_kawai_layout(G)\n",
    "    mapa_colores = [G.nodes[nodo]['color'] for nodo in G.nodes()]\n",
    "    nx.draw(G, pos=posiciones, with_labels=True,\n",
    "            node_color=mapa_colores, node_size=500, font_size=10)\n",
    "    plt.title(titulo)\n",
    "    plt.show()"
   ]
  },
  {
   "cell_type": "markdown",
   "metadata": {},
   "source": [
    "### Paso 4: Generar la población"
   ]
  },
  {
   "cell_type": "code",
   "execution_count": 125,
   "metadata": {},
   "outputs": [],
   "source": [
    "def generar_poblacion(numero_vertices, poblacion_size):\n",
    "    # Generar una poblacion de grafos coloreados\n",
    "    poblacion = {}\n",
    "    # color_grafo = {}\n",
    "    color_grafo = [None] * poblacion_size\n",
    "    for i in range(poblacion_size):\n",
    "        G = grafo_conectado(numero_vertices)\n",
    "        G = colorear_nodos(G, colores)\n",
    "        color_grafo[i] = guardar_colores(G)\n",
    "        poblacion[(i)] = G\n",
    "    return poblacion, color_grafo"
   ]
  },
  {
   "cell_type": "code",
   "execution_count": 126,
   "metadata": {},
   "outputs": [],
   "source": [
    "poblacion, colors = generar_poblacion(numero_vertices, poblacion_size)"
   ]
  },
  {
   "cell_type": "code",
   "execution_count": 127,
   "metadata": {},
   "outputs": [
    {
     "data": {
      "text/plain": [
       "{0: <networkx.classes.graph.Graph at 0x199db1476d0>,\n",
       " 1: <networkx.classes.graph.Graph at 0x199db157690>,\n",
       " 2: <networkx.classes.graph.Graph at 0x199db1300d0>,\n",
       " 3: <networkx.classes.graph.Graph at 0x199db133b90>,\n",
       " 4: <networkx.classes.graph.Graph at 0x199db132250>,\n",
       " 5: <networkx.classes.graph.Graph at 0x199da67fa10>,\n",
       " 6: <networkx.classes.graph.Graph at 0x199da67f210>,\n",
       " 7: <networkx.classes.graph.Graph at 0x199da67ea10>,\n",
       " 8: <networkx.classes.graph.Graph at 0x199da67e210>,\n",
       " 9: <networkx.classes.graph.Graph at 0x199da67da10>}"
      ]
     },
     "execution_count": 127,
     "metadata": {},
     "output_type": "execute_result"
    }
   ],
   "source": [
    "poblacion"
   ]
  },
  {
   "cell_type": "code",
   "execution_count": 128,
   "metadata": {},
   "outputs": [
    {
     "data": {
      "text/plain": [
       "[['green', 'blue', 'blue', 'green', 'green', 'blue', 'blue', 'green'],\n",
       " ['green', 'green', 'green', 'blue', 'red', 'green', 'red', 'blue'],\n",
       " ['blue', 'red', 'blue', 'red', 'red', 'red', 'green', 'green'],\n",
       " ['red', 'green', 'blue', 'green', 'green', 'red', 'blue', 'blue'],\n",
       " ['red', 'red', 'blue', 'green', 'blue', 'red', 'green', 'red'],\n",
       " ['blue', 'red', 'red', 'red', 'red', 'blue', 'red', 'green'],\n",
       " ['green', 'red', 'green', 'blue', 'blue', 'red', 'blue', 'blue'],\n",
       " ['green', 'green', 'red', 'green', 'blue', 'blue', 'green', 'green'],\n",
       " ['red', 'blue', 'red', 'green', 'green', 'green', 'blue', 'blue'],\n",
       " ['blue', 'blue', 'blue', 'blue', 'green', 'blue', 'blue', 'red']]"
      ]
     },
     "execution_count": 128,
     "metadata": {},
     "output_type": "execute_result"
    }
   ],
   "source": [
    "colors"
   ]
  },
  {
   "cell_type": "markdown",
   "metadata": {},
   "source": [
    "### Paso 5: Calcular el fitness"
   ]
  },
  {
   "cell_type": "code",
   "execution_count": 129,
   "metadata": {},
   "outputs": [],
   "source": [
    "def calcular_fitness(G):\n",
    "    \"\"\"\n",
    "    Calcula el fitness de un grafo coloreado.\n",
    "    \"\"\"\n",
    "    errores = 0\n",
    "    for u, v in G.edges():\n",
    "        if G.nodes[u]['color'] == G.nodes[v]['color']:\n",
    "            errores += 1\n",
    "    return errores"
   ]
  },
  {
   "cell_type": "code",
   "execution_count": 130,
   "metadata": {},
   "outputs": [],
   "source": [
    "fitness_grafos = [None] * poblacion_size\n",
    "\n",
    "for i in range(poblacion_size):\n",
    "\tfitness_grafos[i] = calcular_fitness(poblacion[i])"
   ]
  },
  {
   "cell_type": "code",
   "execution_count": 131,
   "metadata": {},
   "outputs": [],
   "source": [
    "cromosomas = {}\n",
    "\n",
    "for i in range(poblacion_size):\n",
    "\t\tcromosomas[poblacion[i]] = calcular_fitness(poblacion[i])"
   ]
  },
  {
   "cell_type": "code",
   "execution_count": 132,
   "metadata": {},
   "outputs": [
    {
     "data": {
      "text/plain": [
       "[4, 4, 4, 3, 1, 4, 5, 3, 4, 5]"
      ]
     },
     "execution_count": 132,
     "metadata": {},
     "output_type": "execute_result"
    }
   ],
   "source": [
    "fitness_grafos"
   ]
  },
  {
   "cell_type": "code",
   "execution_count": 133,
   "metadata": {},
   "outputs": [
    {
     "data": {
      "text/plain": [
       "{<networkx.classes.graph.Graph at 0x199db1476d0>: 4,\n",
       " <networkx.classes.graph.Graph at 0x199db157690>: 4,\n",
       " <networkx.classes.graph.Graph at 0x199db1300d0>: 4,\n",
       " <networkx.classes.graph.Graph at 0x199db133b90>: 3,\n",
       " <networkx.classes.graph.Graph at 0x199db132250>: 1,\n",
       " <networkx.classes.graph.Graph at 0x199da67fa10>: 4,\n",
       " <networkx.classes.graph.Graph at 0x199da67f210>: 5,\n",
       " <networkx.classes.graph.Graph at 0x199da67ea10>: 3,\n",
       " <networkx.classes.graph.Graph at 0x199da67e210>: 4,\n",
       " <networkx.classes.graph.Graph at 0x199da67da10>: 5}"
      ]
     },
     "execution_count": 133,
     "metadata": {},
     "output_type": "execute_result"
    }
   ],
   "source": [
    "cromosomas"
   ]
  },
  {
   "cell_type": "code",
   "execution_count": 134,
   "metadata": {},
   "outputs": [],
   "source": [
    "\n",
    "claves = list(cromosomas.keys())\n",
    "valores = list(cromosomas.values())"
   ]
  },
  {
   "cell_type": "code",
   "execution_count": 135,
   "metadata": {},
   "outputs": [
    {
     "name": "stdout",
     "output_type": "stream",
     "text": [
      "Cromosoma numero 0: Fitnes = 4\n",
      "Cromosoma numero 1: Fitnes = 4\n",
      "Cromosoma numero 2: Fitnes = 4\n",
      "Cromosoma numero 3: Fitnes = 3\n",
      "Cromosoma numero 4: Fitnes = 1\n",
      "Cromosoma numero 5: Fitnes = 4\n",
      "Cromosoma numero 6: Fitnes = 5\n",
      "Cromosoma numero 7: Fitnes = 3\n",
      "Cromosoma numero 8: Fitnes = 4\n",
      "Cromosoma numero 9: Fitnes = 5\n"
     ]
    }
   ],
   "source": [
    "for i, (graph, fitness) in enumerate(cromosomas.items()):\n",
    "\tprint(f'Cromosoma numero {i}: Fitnes = {fitness}')\n"
   ]
  },
  {
   "cell_type": "markdown",
   "metadata": {},
   "source": [
    "#### Exportamos a un archivo CSV"
   ]
  },
  {
   "cell_type": "code",
   "execution_count": 137,
   "metadata": {},
   "outputs": [
    {
     "data": {
      "text/html": [
       "<div>\n",
       "<style scoped>\n",
       "    .dataframe tbody tr th:only-of-type {\n",
       "        vertical-align: middle;\n",
       "    }\n",
       "\n",
       "    .dataframe tbody tr th {\n",
       "        vertical-align: top;\n",
       "    }\n",
       "\n",
       "    .dataframe thead th {\n",
       "        text-align: right;\n",
       "    }\n",
       "</style>\n",
       "<table border=\"1\" class=\"dataframe\">\n",
       "  <thead>\n",
       "    <tr style=\"text-align: right;\">\n",
       "      <th></th>\n",
       "      <th>Grafo</th>\n",
       "      <th>Colores</th>\n",
       "      <th>Fitness</th>\n",
       "    </tr>\n",
       "  </thead>\n",
       "  <tbody>\n",
       "    <tr>\n",
       "      <th>0</th>\n",
       "      <td>(0, 1, 2, 3, 4, 5, 6, 7)</td>\n",
       "      <td>[green, blue, blue, green, green, blue, blue, ...</td>\n",
       "      <td>4</td>\n",
       "    </tr>\n",
       "    <tr>\n",
       "      <th>1</th>\n",
       "      <td>(0, 1, 2, 3, 4, 5, 6, 7)</td>\n",
       "      <td>[green, green, green, blue, red, green, red, b...</td>\n",
       "      <td>4</td>\n",
       "    </tr>\n",
       "    <tr>\n",
       "      <th>2</th>\n",
       "      <td>(0, 1, 2, 3, 4, 5, 6, 7)</td>\n",
       "      <td>[blue, red, blue, red, red, red, green, green]</td>\n",
       "      <td>4</td>\n",
       "    </tr>\n",
       "    <tr>\n",
       "      <th>3</th>\n",
       "      <td>(0, 1, 2, 3, 4, 5, 6, 7)</td>\n",
       "      <td>[red, green, blue, green, green, red, blue, blue]</td>\n",
       "      <td>3</td>\n",
       "    </tr>\n",
       "    <tr>\n",
       "      <th>4</th>\n",
       "      <td>(0, 1, 2, 3, 4, 5, 6, 7)</td>\n",
       "      <td>[red, red, blue, green, blue, red, green, red]</td>\n",
       "      <td>1</td>\n",
       "    </tr>\n",
       "    <tr>\n",
       "      <th>5</th>\n",
       "      <td>(0, 1, 2, 3, 4, 5, 6, 7)</td>\n",
       "      <td>[blue, red, red, red, red, blue, red, green]</td>\n",
       "      <td>4</td>\n",
       "    </tr>\n",
       "    <tr>\n",
       "      <th>6</th>\n",
       "      <td>(0, 1, 2, 3, 4, 5, 6, 7)</td>\n",
       "      <td>[green, red, green, blue, blue, red, blue, blue]</td>\n",
       "      <td>5</td>\n",
       "    </tr>\n",
       "    <tr>\n",
       "      <th>7</th>\n",
       "      <td>(0, 1, 2, 3, 4, 5, 6, 7)</td>\n",
       "      <td>[green, green, red, green, blue, blue, green, ...</td>\n",
       "      <td>3</td>\n",
       "    </tr>\n",
       "    <tr>\n",
       "      <th>8</th>\n",
       "      <td>(0, 1, 2, 3, 4, 5, 6, 7)</td>\n",
       "      <td>[red, blue, red, green, green, green, blue, blue]</td>\n",
       "      <td>4</td>\n",
       "    </tr>\n",
       "    <tr>\n",
       "      <th>9</th>\n",
       "      <td>(0, 1, 2, 3, 4, 5, 6, 7)</td>\n",
       "      <td>[blue, blue, blue, blue, green, blue, blue, red]</td>\n",
       "      <td>5</td>\n",
       "    </tr>\n",
       "  </tbody>\n",
       "</table>\n",
       "</div>"
      ],
      "text/plain": [
       "                      Grafo  \\\n",
       "0  (0, 1, 2, 3, 4, 5, 6, 7)   \n",
       "1  (0, 1, 2, 3, 4, 5, 6, 7)   \n",
       "2  (0, 1, 2, 3, 4, 5, 6, 7)   \n",
       "3  (0, 1, 2, 3, 4, 5, 6, 7)   \n",
       "4  (0, 1, 2, 3, 4, 5, 6, 7)   \n",
       "5  (0, 1, 2, 3, 4, 5, 6, 7)   \n",
       "6  (0, 1, 2, 3, 4, 5, 6, 7)   \n",
       "7  (0, 1, 2, 3, 4, 5, 6, 7)   \n",
       "8  (0, 1, 2, 3, 4, 5, 6, 7)   \n",
       "9  (0, 1, 2, 3, 4, 5, 6, 7)   \n",
       "\n",
       "                                             Colores  Fitness  \n",
       "0  [green, blue, blue, green, green, blue, blue, ...        4  \n",
       "1  [green, green, green, blue, red, green, red, b...        4  \n",
       "2     [blue, red, blue, red, red, red, green, green]        4  \n",
       "3  [red, green, blue, green, green, red, blue, blue]        3  \n",
       "4     [red, red, blue, green, blue, red, green, red]        1  \n",
       "5       [blue, red, red, red, red, blue, red, green]        4  \n",
       "6   [green, red, green, blue, blue, red, blue, blue]        5  \n",
       "7  [green, green, red, green, blue, blue, green, ...        3  \n",
       "8  [red, blue, red, green, green, green, blue, blue]        4  \n",
       "9   [blue, blue, blue, blue, green, blue, blue, red]        5  "
      ]
     },
     "execution_count": 137,
     "metadata": {},
     "output_type": "execute_result"
    }
   ],
   "source": [
    "df = pd.DataFrame({\n",
    "    'Grafo': claves,\n",
    "    'Colores': colors,\n",
    "    'Fitness': fitness_grafos\n",
    "})\n",
    "\n",
    "df.to_csv('Grafos.csv', index=False)\n",
    "\n",
    "df"
   ]
  },
  {
   "cell_type": "markdown",
   "metadata": {},
   "source": [
    "#### Probamos los grafos"
   ]
  },
  {
   "cell_type": "code",
   "execution_count": 138,
   "metadata": {},
   "outputs": [
    {
     "data": {
      "image/png": "[encoded data removed]",
      "text/plain": [
       "<Figure size 800x600 with 1 Axes>"
      ]
     },
     "metadata": {},
     "output_type": "display_data"
    },
    {
     "data": {
      "text/plain": [
       "4"
      ]
     },
     "execution_count": 138,
     "metadata": {},
     "output_type": "execute_result"
    }
   ],
   "source": [
    "dibujar_grafo(claves[0], 'Grafo 0')\n",
    "calcular_fitness(claves[0])"
   ]
  },
  {
   "cell_type": "code",
   "execution_count": 139,
   "metadata": {},
   "outputs": [
    {
     "data": {
      "image/png": "[encoded data removed]",
      "text/plain": [
       "<Figure size 800x600 with 1 Axes>"
      ]
     },
     "metadata": {},
     "output_type": "display_data"
    },
    {
     "data": {
      "text/plain": [
       "4"
      ]
     },
     "execution_count": 139,
     "metadata": {},
     "output_type": "execute_result"
    }
   ],
   "source": [
    "dibujar_grafo(claves[1], 'Grafo 1')\n",
    "calcular_fitness(claves[1])"
   ]
  },
  {
   "cell_type": "markdown",
   "metadata": {},
   "source": [
    "### Paso 6: Reproducción"
   ]
  },
  {
   "cell_type": "code",
   "execution_count": 148,
   "metadata": {},
   "outputs": [
    {
     "data": {
      "text/html": [
       "<div>\n",
       "<style scoped>\n",
       "    .dataframe tbody tr th:only-of-type {\n",
       "        vertical-align: middle;\n",
       "    }\n",
       "\n",
       "    .dataframe tbody tr th {\n",
       "        vertical-align: top;\n",
       "    }\n",
       "\n",
       "    .dataframe thead th {\n",
       "        text-align: right;\n",
       "    }\n",
       "</style>\n",
       "<table border=\"1\" class=\"dataframe\">\n",
       "  <thead>\n",
       "    <tr style=\"text-align: right;\">\n",
       "      <th></th>\n",
       "      <th>Grafo</th>\n",
       "      <th>Colores</th>\n",
       "      <th>Fitness</th>\n",
       "    </tr>\n",
       "  </thead>\n",
       "  <tbody>\n",
       "    <tr>\n",
       "      <th>0</th>\n",
       "      <td>(0, 1, 2, 3, 4, 5, 6, 7)</td>\n",
       "      <td>[green, blue, blue, green, green, blue, blue, ...</td>\n",
       "      <td>4</td>\n",
       "    </tr>\n",
       "    <tr>\n",
       "      <th>1</th>\n",
       "      <td>(0, 1, 2, 3, 4, 5, 6, 7)</td>\n",
       "      <td>[green, green, green, blue, red, green, red, b...</td>\n",
       "      <td>4</td>\n",
       "    </tr>\n",
       "    <tr>\n",
       "      <th>2</th>\n",
       "      <td>(0, 1, 2, 3, 4, 5, 6, 7)</td>\n",
       "      <td>[blue, red, blue, red, red, red, green, green]</td>\n",
       "      <td>4</td>\n",
       "    </tr>\n",
       "    <tr>\n",
       "      <th>3</th>\n",
       "      <td>(0, 1, 2, 3, 4, 5, 6, 7)</td>\n",
       "      <td>[red, green, blue, green, green, red, blue, blue]</td>\n",
       "      <td>3</td>\n",
       "    </tr>\n",
       "    <tr>\n",
       "      <th>4</th>\n",
       "      <td>(0, 1, 2, 3, 4, 5, 6, 7)</td>\n",
       "      <td>[red, red, blue, green, blue, red, green, red]</td>\n",
       "      <td>1</td>\n",
       "    </tr>\n",
       "  </tbody>\n",
       "</table>\n",
       "</div>"
      ],
      "text/plain": [
       "                      Grafo  \\\n",
       "0  (0, 1, 2, 3, 4, 5, 6, 7)   \n",
       "1  (0, 1, 2, 3, 4, 5, 6, 7)   \n",
       "2  (0, 1, 2, 3, 4, 5, 6, 7)   \n",
       "3  (0, 1, 2, 3, 4, 5, 6, 7)   \n",
       "4  (0, 1, 2, 3, 4, 5, 6, 7)   \n",
       "\n",
       "                                             Colores  Fitness  \n",
       "0  [green, blue, blue, green, green, blue, blue, ...        4  \n",
       "1  [green, green, green, blue, red, green, red, b...        4  \n",
       "2     [blue, red, blue, red, red, red, green, green]        4  \n",
       "3  [red, green, blue, green, green, red, blue, blue]        3  \n",
       "4     [red, red, blue, green, blue, red, green, red]        1  "
      ]
     },
     "execution_count": 148,
     "metadata": {},
     "output_type": "execute_result"
    }
   ],
   "source": [
    "df.head()"
   ]
  },
  {
   "cell_type": "code",
   "execution_count": 152,
   "metadata": {},
   "outputs": [
    {
     "data": {
      "text/html": [
       "<div>\n",
       "<style scoped>\n",
       "    .dataframe tbody tr th:only-of-type {\n",
       "        vertical-align: middle;\n",
       "    }\n",
       "\n",
       "    .dataframe tbody tr th {\n",
       "        vertical-align: top;\n",
       "    }\n",
       "\n",
       "    .dataframe thead th {\n",
       "        text-align: right;\n",
       "    }\n",
       "</style>\n",
       "<table border=\"1\" class=\"dataframe\">\n",
       "  <thead>\n",
       "    <tr style=\"text-align: right;\">\n",
       "      <th></th>\n",
       "      <th>Grafo</th>\n",
       "      <th>Colores</th>\n",
       "      <th>Fitness</th>\n",
       "    </tr>\n",
       "  </thead>\n",
       "  <tbody>\n",
       "    <tr>\n",
       "      <th>4</th>\n",
       "      <td>(0, 1, 2, 3, 4, 5, 6, 7)</td>\n",
       "      <td>[red, red, blue, green, blue, red, green, red]</td>\n",
       "      <td>1</td>\n",
       "    </tr>\n",
       "    <tr>\n",
       "      <th>3</th>\n",
       "      <td>(0, 1, 2, 3, 4, 5, 6, 7)</td>\n",
       "      <td>[red, green, blue, green, green, red, blue, blue]</td>\n",
       "      <td>3</td>\n",
       "    </tr>\n",
       "  </tbody>\n",
       "</table>\n",
       "</div>"
      ],
      "text/plain": [
       "                      Grafo  \\\n",
       "4  (0, 1, 2, 3, 4, 5, 6, 7)   \n",
       "3  (0, 1, 2, 3, 4, 5, 6, 7)   \n",
       "\n",
       "                                             Colores  Fitness  \n",
       "4     [red, red, blue, green, blue, red, green, red]        1  \n",
       "3  [red, green, blue, green, green, red, blue, blue]        3  "
      ]
     },
     "execution_count": 152,
     "metadata": {},
     "output_type": "execute_result"
    }
   ],
   "source": [
    "# Seleccionar los mejores cromosomas\n",
    "df_sorted = df.sort_values(by='Fitness').head(2)\n",
    "df_sorted"
   ]
  },
  {
   "cell_type": "code",
   "execution_count": 151,
   "metadata": {},
   "outputs": [
    {
     "data": {
      "text/plain": [
       "['red', 'red', 'blue', 'green', 'green', 'red', 'blue', 'blue']"
      ]
     },
     "execution_count": 151,
     "metadata": {},
     "output_type": "execute_result"
    }
   ],
   "source": [
    "# Obtener los colores de los dos grafos con menor fitness\n",
    "colores_padre_1 = df_sorted.iloc[0]['Colores']\n",
    "colores_padre_2 = df_sorted.iloc[1]['Colores']\n",
    "\n",
    "# Combinar la mitad de los colores de cada padre para formar el nuevo grafo\n",
    "nueva_lista_colores = colores_padre_1[:len(\n",
    "    colores_padre_1)//2] + colores_padre_2[len(colores_padre_2)//2:]\n",
    "\n",
    "nueva_lista_colores"
   ]
  },
  {
   "cell_type": "code",
   "execution_count": 156,
   "metadata": {},
   "outputs": [],
   "source": [
    "def colorear_nodos2(G, colores):\n",
    "    \"\"\"\n",
    "    Asigna colores de una lista a los nodos del grafo en orden.\n",
    "    \"\"\"\n",
    "    # Asegurar que hay suficientes colores para los nodos\n",
    "    if len(colores) < len(G.nodes()):\n",
    "        raise ValueError(\"No hay suficientes colores para todos los nodos\")\n",
    "\n",
    "    for nodo, color in zip(G.nodes(), colores):\n",
    "        G.nodes[nodo]['color'] = color\n",
    "\n",
    "    return G"
   ]
  },
  {
   "cell_type": "code",
   "execution_count": 155,
   "metadata": {},
   "outputs": [],
   "source": [
    "X = grafo_conectado(numero_vertices)"
   ]
  },
  {
   "cell_type": "code",
   "execution_count": 157,
   "metadata": {},
   "outputs": [],
   "source": [
    "X = colorear_nodos2(X, nueva_lista_colores)"
   ]
  },
  {
   "cell_type": "code",
   "execution_count": 158,
   "metadata": {},
   "outputs": [
    {
     "data": {
      "image/png": "[encoded data removed]",
      "text/plain": [
       "<Figure size 800x600 with 1 Axes>"
      ]
     },
     "metadata": {},
     "output_type": "display_data"
    }
   ],
   "source": [
    "dibujar_grafo(X, 'Grafo 0')"
   ]
  },
  {
   "cell_type": "code",
   "execution_count": 159,
   "metadata": {},
   "outputs": [
    {
     "data": {
      "text/plain": [
       "4"
      ]
     },
     "execution_count": 159,
     "metadata": {},
     "output_type": "execute_result"
    }
   ],
   "source": [
    "calcular_fitness(X)"
   ]
  },
  {
   "cell_type": "markdown",
   "metadata": {},
   "source": [
    "### Paso 7: Mutación"
   ]
  }
 ],
 "metadata": {
  "kernelspec": {
   "display_name": "Python 3",
   "language": "python",
   "name": "python3"
  },
  "language_info": {
   "codemirror_mode": {
    "name": "ipython",
    "version": 3
   },
   "file_extension": ".py",
   "mimetype": "text/x-python",
   "name": "python",
   "nbconvert_exporter": "python",
   "pygments_lexer": "ipython3",
   "version": "3.11.9"
  }
 },
 "nbformat": 4,
 "nbformat_minor": 2
}
