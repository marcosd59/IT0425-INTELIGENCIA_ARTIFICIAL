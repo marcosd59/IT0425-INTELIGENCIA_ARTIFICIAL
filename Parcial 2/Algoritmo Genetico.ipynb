{
 "cells": [
  {
   "cell_type": "markdown",
   "metadata": {},
   "source": [
    "# **Algoritmo Genético**"
   ]
  },
  {
   "cell_type": "markdown",
   "metadata": {},
   "source": [
    "## **Marcos Damián Pool Canul** & **Oscar Manuel Ruiz Reyes**"
   ]
  },
  {
   "cell_type": "code",
   "execution_count": 207,
   "metadata": {},
   "outputs": [],
   "source": [
    "import networkx as nx\n",
    "import pandas as pd\n",
    "import heapq as pq\n",
    "import matplotlib.pyplot as plt\n",
    "from random import randint, choice, random\n",
    "from tabulate import tabulate"
   ]
  },
  {
   "cell_type": "markdown",
   "metadata": {},
   "source": [
    "### Paso 1: Definir el número de vértices"
   ]
  },
  {
   "cell_type": "code",
   "execution_count": 208,
   "metadata": {},
   "outputs": [],
   "source": [
    "# Numero de vertices\n",
    "numero_vertices = 8\n",
    "\n",
    "# Tamaño de la poblacion\n",
    "poblacion_size = 10\n",
    "\n",
    "# Numero de generaciones\n",
    "generaciones = 100\n",
    "\n",
    "# Mejores individuos\n",
    "n_elite = 2\n",
    "\n",
    "# Los colores posibles\n",
    "colores = ['red', 'green', 'blue']"
   ]
  },
  {
   "cell_type": "markdown",
   "metadata": {},
   "source": [
    "### Paso 2: Colorear los vertices aleatoriamente"
   ]
  },
  {
   "cell_type": "code",
   "execution_count": 209,
   "metadata": {},
   "outputs": [],
   "source": [
    "def colorear_nodos(G, colores):\n",
    "    for nodo in G.nodes():\n",
    "        # Asignar un color aleatorio a cada nodo\n",
    "        G.nodes[nodo]['color'] = choice(colores)\n",
    "    return G"
   ]
  },
  {
   "cell_type": "code",
   "execution_count": 210,
   "metadata": {},
   "outputs": [],
   "source": [
    "def guardar_colores(G, nodo_inicial=0):\n",
    "    \"\"\"\n",
    "\t\tRealiza un recorrido DFS en el grafo G y devuelve una secuencia de nodos visitados con sus respectivos colores.\n",
    "    \"\"\"\n",
    "\n",
    "    # Lista para almacenar el número de nodo y el color\n",
    "    secuencia_colores = []\n",
    "\n",
    "    # Set para mantener un registro de los nodos visitados\n",
    "    visitados = set()\n",
    "\n",
    "    def dfs(nodo):\n",
    "        if nodo not in visitados:\n",
    "            visitados.add(nodo)\n",
    "            # Suponiendo que cada nodo tiene un atributo 'color'\n",
    "            secuencia_colores.append((G.nodes[nodo].get('color', None)))\n",
    "            for vecino in G[nodo]:\n",
    "                dfs(vecino)\n",
    "\n",
    "    # Iniciar DFS desde el nodo inicial\n",
    "    dfs(nodo_inicial)\n",
    "\n",
    "    return secuencia_colores"
   ]
  },
  {
   "cell_type": "markdown",
   "metadata": {},
   "source": [
    "### Paso 3: Controlar la impresión del grafo"
   ]
  },
  {
   "cell_type": "code",
   "execution_count": 211,
   "metadata": {},
   "outputs": [],
   "source": [
    "def grafo_conectado(numero_vertices):\n",
    "    \"\"\"\n",
    "    Crea un grafo conectado con un numero de vertices.\n",
    "    \"\"\"\n",
    "    G = nx.Graph()\n",
    "    G.add_nodes_from(range(numero_vertices))\n",
    "\n",
    "    for i in range(1, numero_vertices):\n",
    "        G.add_edge(i - 1, i)\n",
    "\n",
    "    if numero_vertices > 4:\n",
    "        for i in range(numero_vertices):\n",
    "            for j in range(i + 2, min(i + numero_vertices // 3, numero_vertices)):\n",
    "                G.add_edge(i, j)\n",
    "\n",
    "        G.add_edge(0, numero_vertices // 3)\n",
    "        G.add_edge(numero_vertices // 2, numero_vertices - 1)\n",
    "\n",
    "        if numero_vertices > 6:\n",
    "            G.add_edge(numero_vertices - 1, numero_vertices // 4)\n",
    "            G.add_edge(numero_vertices - 2, numero_vertices // 2)\n",
    "\n",
    "    return G"
   ]
  },
  {
   "cell_type": "code",
   "execution_count": 212,
   "metadata": {},
   "outputs": [],
   "source": [
    "def dibujar_grafo(G, titulo):\n",
    "    \"\"\"\n",
    "    Dibuja el grafo G con el titulo dado.\n",
    "    \"\"\"\n",
    "    plt.figure(figsize=(8, 6))\n",
    "    # Kamada-Kawai layout para dibujar el grafo\n",
    "    posiciones = nx.kamada_kawai_layout(G)\n",
    "    mapa_colores = [G.nodes[nodo]['color'] for nodo in G.nodes()]\n",
    "    nx.draw(G, pos=posiciones, with_labels=True,\n",
    "            node_color=mapa_colores, node_size=500, font_size=10)\n",
    "    plt.title(titulo)\n",
    "    plt.show()"
   ]
  },
  {
   "cell_type": "markdown",
   "metadata": {},
   "source": [
    "### Paso 4: Generar la población"
   ]
  },
  {
   "cell_type": "code",
   "execution_count": 213,
   "metadata": {},
   "outputs": [],
   "source": [
    "def generar_poblacion(numero_vertices, poblacion_size):\n",
    "    # Generar una poblacion de grafos coloreados\n",
    "    poblacion = {}\n",
    "    # color_grafo = {}\n",
    "    color_grafo = [None] * poblacion_size\n",
    "    for i in range(poblacion_size):\n",
    "        G = grafo_conectado(numero_vertices)\n",
    "        G = colorear_nodos(G, colores)\n",
    "        color_grafo[i] = guardar_colores(G)\n",
    "        poblacion[(i)] = G\n",
    "    return poblacion, color_grafo"
   ]
  },
  {
   "cell_type": "code",
   "execution_count": 214,
   "metadata": {},
   "outputs": [],
   "source": [
    "poblacion, colors = generar_poblacion(numero_vertices, poblacion_size)"
   ]
  },
  {
   "cell_type": "code",
   "execution_count": 215,
   "metadata": {},
   "outputs": [
    {
     "data": {
      "text/plain": [
       "{0: <networkx.classes.graph.Graph at 0x18374961210>,\n",
       " 1: <networkx.classes.graph.Graph at 0x1836ff2fcd0>,\n",
       " 2: <networkx.classes.graph.Graph at 0x183748ba990>,\n",
       " 3: <networkx.classes.graph.Graph at 0x183748b9c90>,\n",
       " 4: <networkx.classes.graph.Graph at 0x183748bac90>,\n",
       " 5: <networkx.classes.graph.Graph at 0x183748d6dd0>,\n",
       " 6: <networkx.classes.graph.Graph at 0x183748d7f50>,\n",
       " 7: <networkx.classes.graph.Graph at 0x183748d7c50>,\n",
       " 8: <networkx.classes.graph.Graph at 0x183748d42d0>,\n",
       " 9: <networkx.classes.graph.Graph at 0x183749410d0>}"
      ]
     },
     "execution_count": 215,
     "metadata": {},
     "output_type": "execute_result"
    }
   ],
   "source": [
    "poblacion"
   ]
  },
  {
   "cell_type": "code",
   "execution_count": 216,
   "metadata": {},
   "outputs": [
    {
     "data": {
      "text/plain": [
       "[['blue', 'blue', 'red', 'blue', 'green', 'red', 'green', 'green'],\n",
       " ['blue', 'green', 'green', 'red', 'blue', 'blue', 'blue', 'blue'],\n",
       " ['blue', 'blue', 'blue', 'green', 'green', 'red', 'red', 'green'],\n",
       " ['red', 'blue', 'red', 'blue', 'blue', 'red', 'red', 'green'],\n",
       " ['green', 'blue', 'blue', 'green', 'blue', 'blue', 'red', 'green'],\n",
       " ['blue', 'blue', 'blue', 'green', 'red', 'green', 'red', 'green'],\n",
       " ['red', 'red', 'green', 'red', 'blue', 'blue', 'red', 'blue'],\n",
       " ['green', 'blue', 'red', 'red', 'red', 'blue', 'blue', 'blue'],\n",
       " ['green', 'blue', 'red', 'red', 'blue', 'blue', 'blue', 'red'],\n",
       " ['blue', 'blue', 'red', 'red', 'green', 'red', 'red', 'blue']]"
      ]
     },
     "execution_count": 216,
     "metadata": {},
     "output_type": "execute_result"
    }
   ],
   "source": [
    "colors"
   ]
  },
  {
   "cell_type": "markdown",
   "metadata": {},
   "source": [
    "### Paso 5: Calcular el fitness"
   ]
  },
  {
   "cell_type": "code",
   "execution_count": 217,
   "metadata": {},
   "outputs": [],
   "source": [
    "def calcular_fitness(G):\n",
    "    \"\"\"\n",
    "    Calcula el fitness de un grafo coloreado.\n",
    "    \"\"\"\n",
    "    errores = 0\n",
    "    for u, v in G.edges():\n",
    "        if G.nodes[u]['color'] == G.nodes[v]['color']:\n",
    "            errores += 1\n",
    "    return errores"
   ]
  },
  {
   "cell_type": "code",
   "execution_count": 218,
   "metadata": {},
   "outputs": [],
   "source": [
    "fitness_grafos = [None] * poblacion_size\n",
    "\n",
    "for i in range(poblacion_size):\n",
    "\tfitness_grafos[i] = calcular_fitness(poblacion[i])"
   ]
  },
  {
   "cell_type": "code",
   "execution_count": 219,
   "metadata": {},
   "outputs": [],
   "source": [
    "cromosomas = {}\n",
    "\n",
    "for i in range(poblacion_size):\n",
    "\t\tcromosomas[poblacion[i]] = calcular_fitness(poblacion[i])"
   ]
  },
  {
   "cell_type": "code",
   "execution_count": 220,
   "metadata": {},
   "outputs": [
    {
     "data": {
      "text/plain": [
       "[4, 6, 6, 3, 2, 4, 3, 4, 5, 3]"
      ]
     },
     "execution_count": 220,
     "metadata": {},
     "output_type": "execute_result"
    }
   ],
   "source": [
    "fitness_grafos"
   ]
  },
  {
   "cell_type": "code",
   "execution_count": 221,
   "metadata": {},
   "outputs": [
    {
     "data": {
      "text/plain": [
       "{<networkx.classes.graph.Graph at 0x18374961210>: 4,\n",
       " <networkx.classes.graph.Graph at 0x1836ff2fcd0>: 6,\n",
       " <networkx.classes.graph.Graph at 0x183748ba990>: 6,\n",
       " <networkx.classes.graph.Graph at 0x183748b9c90>: 3,\n",
       " <networkx.classes.graph.Graph at 0x183748bac90>: 2,\n",
       " <networkx.classes.graph.Graph at 0x183748d6dd0>: 4,\n",
       " <networkx.classes.graph.Graph at 0x183748d7f50>: 3,\n",
       " <networkx.classes.graph.Graph at 0x183748d7c50>: 4,\n",
       " <networkx.classes.graph.Graph at 0x183748d42d0>: 5,\n",
       " <networkx.classes.graph.Graph at 0x183749410d0>: 3}"
      ]
     },
     "execution_count": 221,
     "metadata": {},
     "output_type": "execute_result"
    }
   ],
   "source": [
    "cromosomas"
   ]
  },
  {
   "cell_type": "code",
   "execution_count": 222,
   "metadata": {},
   "outputs": [],
   "source": [
    "\n",
    "claves = list(cromosomas.keys())\n",
    "valores = list(cromosomas.values())"
   ]
  },
  {
   "cell_type": "code",
   "execution_count": 242,
   "metadata": {},
   "outputs": [
    {
     "name": "stdout",
     "output_type": "stream",
     "text": [
      "4\n"
     ]
    }
   ],
   "source": [
    "print(valores[0])"
   ]
  },
  {
   "cell_type": "code",
   "execution_count": 223,
   "metadata": {},
   "outputs": [
    {
     "name": "stdout",
     "output_type": "stream",
     "text": [
      "Cromosoma numero 0: Fitnes = 4\n",
      "Cromosoma numero 1: Fitnes = 6\n",
      "Cromosoma numero 2: Fitnes = 6\n",
      "Cromosoma numero 3: Fitnes = 3\n",
      "Cromosoma numero 4: Fitnes = 2\n",
      "Cromosoma numero 5: Fitnes = 4\n",
      "Cromosoma numero 6: Fitnes = 3\n",
      "Cromosoma numero 7: Fitnes = 4\n",
      "Cromosoma numero 8: Fitnes = 5\n",
      "Cromosoma numero 9: Fitnes = 3\n"
     ]
    }
   ],
   "source": [
    "for i, (graph, fitness) in enumerate(cromosomas.items()):\n",
    "\tprint(f'Cromosoma numero {i}: Fitnes = {fitness}')\n"
   ]
  },
  {
   "cell_type": "markdown",
   "metadata": {},
   "source": [
    "#### Exportamos a un archivo CSV"
   ]
  },
  {
   "cell_type": "code",
   "execution_count": 224,
   "metadata": {},
   "outputs": [
    {
     "data": {
      "text/html": [
       "<div>\n",
       "<style scoped>\n",
       "    .dataframe tbody tr th:only-of-type {\n",
       "        vertical-align: middle;\n",
       "    }\n",
       "\n",
       "    .dataframe tbody tr th {\n",
       "        vertical-align: top;\n",
       "    }\n",
       "\n",
       "    .dataframe thead th {\n",
       "        text-align: right;\n",
       "    }\n",
       "</style>\n",
       "<table border=\"1\" class=\"dataframe\">\n",
       "  <thead>\n",
       "    <tr style=\"text-align: right;\">\n",
       "      <th></th>\n",
       "      <th>Grafo</th>\n",
       "      <th>Colores</th>\n",
       "      <th>Fitness</th>\n",
       "    </tr>\n",
       "  </thead>\n",
       "  <tbody>\n",
       "    <tr>\n",
       "      <th>0</th>\n",
       "      <td>(0, 1, 2, 3, 4, 5, 6, 7)</td>\n",
       "      <td>[blue, blue, red, blue, green, red, green, green]</td>\n",
       "      <td>4</td>\n",
       "    </tr>\n",
       "    <tr>\n",
       "      <th>1</th>\n",
       "      <td>(0, 1, 2, 3, 4, 5, 6, 7)</td>\n",
       "      <td>[blue, green, green, red, blue, blue, blue, blue]</td>\n",
       "      <td>6</td>\n",
       "    </tr>\n",
       "    <tr>\n",
       "      <th>2</th>\n",
       "      <td>(0, 1, 2, 3, 4, 5, 6, 7)</td>\n",
       "      <td>[blue, blue, blue, green, green, red, red, green]</td>\n",
       "      <td>6</td>\n",
       "    </tr>\n",
       "    <tr>\n",
       "      <th>3</th>\n",
       "      <td>(0, 1, 2, 3, 4, 5, 6, 7)</td>\n",
       "      <td>[red, blue, red, blue, blue, red, red, green]</td>\n",
       "      <td>3</td>\n",
       "    </tr>\n",
       "    <tr>\n",
       "      <th>4</th>\n",
       "      <td>(0, 1, 2, 3, 4, 5, 6, 7)</td>\n",
       "      <td>[green, blue, blue, green, blue, blue, red, gr...</td>\n",
       "      <td>2</td>\n",
       "    </tr>\n",
       "    <tr>\n",
       "      <th>5</th>\n",
       "      <td>(0, 1, 2, 3, 4, 5, 6, 7)</td>\n",
       "      <td>[blue, blue, blue, green, red, green, red, green]</td>\n",
       "      <td>4</td>\n",
       "    </tr>\n",
       "    <tr>\n",
       "      <th>6</th>\n",
       "      <td>(0, 1, 2, 3, 4, 5, 6, 7)</td>\n",
       "      <td>[red, red, green, red, blue, blue, red, blue]</td>\n",
       "      <td>3</td>\n",
       "    </tr>\n",
       "    <tr>\n",
       "      <th>7</th>\n",
       "      <td>(0, 1, 2, 3, 4, 5, 6, 7)</td>\n",
       "      <td>[green, blue, red, red, red, blue, blue, blue]</td>\n",
       "      <td>4</td>\n",
       "    </tr>\n",
       "    <tr>\n",
       "      <th>8</th>\n",
       "      <td>(0, 1, 2, 3, 4, 5, 6, 7)</td>\n",
       "      <td>[green, blue, red, red, blue, blue, blue, red]</td>\n",
       "      <td>5</td>\n",
       "    </tr>\n",
       "    <tr>\n",
       "      <th>9</th>\n",
       "      <td>(0, 1, 2, 3, 4, 5, 6, 7)</td>\n",
       "      <td>[blue, blue, red, red, green, red, red, blue]</td>\n",
       "      <td>3</td>\n",
       "    </tr>\n",
       "  </tbody>\n",
       "</table>\n",
       "</div>"
      ],
      "text/plain": [
       "                      Grafo  \\\n",
       "0  (0, 1, 2, 3, 4, 5, 6, 7)   \n",
       "1  (0, 1, 2, 3, 4, 5, 6, 7)   \n",
       "2  (0, 1, 2, 3, 4, 5, 6, 7)   \n",
       "3  (0, 1, 2, 3, 4, 5, 6, 7)   \n",
       "4  (0, 1, 2, 3, 4, 5, 6, 7)   \n",
       "5  (0, 1, 2, 3, 4, 5, 6, 7)   \n",
       "6  (0, 1, 2, 3, 4, 5, 6, 7)   \n",
       "7  (0, 1, 2, 3, 4, 5, 6, 7)   \n",
       "8  (0, 1, 2, 3, 4, 5, 6, 7)   \n",
       "9  (0, 1, 2, 3, 4, 5, 6, 7)   \n",
       "\n",
       "                                             Colores  Fitness  \n",
       "0  [blue, blue, red, blue, green, red, green, green]        4  \n",
       "1  [blue, green, green, red, blue, blue, blue, blue]        6  \n",
       "2  [blue, blue, blue, green, green, red, red, green]        6  \n",
       "3      [red, blue, red, blue, blue, red, red, green]        3  \n",
       "4  [green, blue, blue, green, blue, blue, red, gr...        2  \n",
       "5  [blue, blue, blue, green, red, green, red, green]        4  \n",
       "6      [red, red, green, red, blue, blue, red, blue]        3  \n",
       "7     [green, blue, red, red, red, blue, blue, blue]        4  \n",
       "8     [green, blue, red, red, blue, blue, blue, red]        5  \n",
       "9      [blue, blue, red, red, green, red, red, blue]        3  "
      ]
     },
     "execution_count": 224,
     "metadata": {},
     "output_type": "execute_result"
    }
   ],
   "source": [
    "df = pd.DataFrame({\n",
    "    'Grafo': claves,\n",
    "    'Colores': colors,\n",
    "    'Fitness': fitness_grafos\n",
    "})\n",
    "\n",
    "df.to_csv('Grafos.csv', index=False)\n",
    "\n",
    "df"
   ]
  },
  {
   "cell_type": "markdown",
   "metadata": {},
   "source": [
    "#### Probamos los grafos"
   ]
  },
  {
   "cell_type": "code",
   "execution_count": 225,
   "metadata": {},
   "outputs": [
    {
     "data": {
      "image/png": "[encoded data removed]",
      "text/plain": [
       "<Figure size 800x600 with 1 Axes>"
      ]
     },
     "metadata": {},
     "output_type": "display_data"
    },
    {
     "data": {
      "text/plain": [
       "4"
      ]
     },
     "execution_count": 225,
     "metadata": {},
     "output_type": "execute_result"
    }
   ],
   "source": [
    "dibujar_grafo(claves[0], 'Grafo 0')\n",
    "calcular_fitness(claves[0])"
   ]
  },
  {
   "cell_type": "code",
   "execution_count": 226,
   "metadata": {},
   "outputs": [
    {
     "data": {
      "image/png": "[encoded data removed]",
      "text/plain": [
       "<Figure size 800x600 with 1 Axes>"
      ]
     },
     "metadata": {},
     "output_type": "display_data"
    },
    {
     "data": {
      "text/plain": [
       "6"
      ]
     },
     "execution_count": 226,
     "metadata": {},
     "output_type": "execute_result"
    }
   ],
   "source": [
    "dibujar_grafo(claves[1], 'Grafo 1')\n",
    "calcular_fitness(claves[1])"
   ]
  },
  {
   "cell_type": "markdown",
   "metadata": {},
   "source": [
    "### Paso 6: Reproducción"
   ]
  },
  {
   "cell_type": "code",
   "execution_count": 227,
   "metadata": {},
   "outputs": [
    {
     "data": {
      "text/html": [
       "<div>\n",
       "<style scoped>\n",
       "    .dataframe tbody tr th:only-of-type {\n",
       "        vertical-align: middle;\n",
       "    }\n",
       "\n",
       "    .dataframe tbody tr th {\n",
       "        vertical-align: top;\n",
       "    }\n",
       "\n",
       "    .dataframe thead th {\n",
       "        text-align: right;\n",
       "    }\n",
       "</style>\n",
       "<table border=\"1\" class=\"dataframe\">\n",
       "  <thead>\n",
       "    <tr style=\"text-align: right;\">\n",
       "      <th></th>\n",
       "      <th>Grafo</th>\n",
       "      <th>Colores</th>\n",
       "      <th>Fitness</th>\n",
       "    </tr>\n",
       "  </thead>\n",
       "  <tbody>\n",
       "    <tr>\n",
       "      <th>0</th>\n",
       "      <td>(0, 1, 2, 3, 4, 5, 6, 7)</td>\n",
       "      <td>[blue, blue, red, blue, green, red, green, green]</td>\n",
       "      <td>4</td>\n",
       "    </tr>\n",
       "    <tr>\n",
       "      <th>1</th>\n",
       "      <td>(0, 1, 2, 3, 4, 5, 6, 7)</td>\n",
       "      <td>[blue, green, green, red, blue, blue, blue, blue]</td>\n",
       "      <td>6</td>\n",
       "    </tr>\n",
       "    <tr>\n",
       "      <th>2</th>\n",
       "      <td>(0, 1, 2, 3, 4, 5, 6, 7)</td>\n",
       "      <td>[blue, blue, blue, green, green, red, red, green]</td>\n",
       "      <td>6</td>\n",
       "    </tr>\n",
       "    <tr>\n",
       "      <th>3</th>\n",
       "      <td>(0, 1, 2, 3, 4, 5, 6, 7)</td>\n",
       "      <td>[red, blue, red, blue, blue, red, red, green]</td>\n",
       "      <td>3</td>\n",
       "    </tr>\n",
       "    <tr>\n",
       "      <th>4</th>\n",
       "      <td>(0, 1, 2, 3, 4, 5, 6, 7)</td>\n",
       "      <td>[green, blue, blue, green, blue, blue, red, gr...</td>\n",
       "      <td>2</td>\n",
       "    </tr>\n",
       "    <tr>\n",
       "      <th>5</th>\n",
       "      <td>(0, 1, 2, 3, 4, 5, 6, 7)</td>\n",
       "      <td>[blue, blue, blue, green, red, green, red, green]</td>\n",
       "      <td>4</td>\n",
       "    </tr>\n",
       "    <tr>\n",
       "      <th>6</th>\n",
       "      <td>(0, 1, 2, 3, 4, 5, 6, 7)</td>\n",
       "      <td>[red, red, green, red, blue, blue, red, blue]</td>\n",
       "      <td>3</td>\n",
       "    </tr>\n",
       "    <tr>\n",
       "      <th>7</th>\n",
       "      <td>(0, 1, 2, 3, 4, 5, 6, 7)</td>\n",
       "      <td>[green, blue, red, red, red, blue, blue, blue]</td>\n",
       "      <td>4</td>\n",
       "    </tr>\n",
       "    <tr>\n",
       "      <th>8</th>\n",
       "      <td>(0, 1, 2, 3, 4, 5, 6, 7)</td>\n",
       "      <td>[green, blue, red, red, blue, blue, blue, red]</td>\n",
       "      <td>5</td>\n",
       "    </tr>\n",
       "    <tr>\n",
       "      <th>9</th>\n",
       "      <td>(0, 1, 2, 3, 4, 5, 6, 7)</td>\n",
       "      <td>[blue, blue, red, red, green, red, red, blue]</td>\n",
       "      <td>3</td>\n",
       "    </tr>\n",
       "  </tbody>\n",
       "</table>\n",
       "</div>"
      ],
      "text/plain": [
       "                      Grafo  \\\n",
       "0  (0, 1, 2, 3, 4, 5, 6, 7)   \n",
       "1  (0, 1, 2, 3, 4, 5, 6, 7)   \n",
       "2  (0, 1, 2, 3, 4, 5, 6, 7)   \n",
       "3  (0, 1, 2, 3, 4, 5, 6, 7)   \n",
       "4  (0, 1, 2, 3, 4, 5, 6, 7)   \n",
       "5  (0, 1, 2, 3, 4, 5, 6, 7)   \n",
       "6  (0, 1, 2, 3, 4, 5, 6, 7)   \n",
       "7  (0, 1, 2, 3, 4, 5, 6, 7)   \n",
       "8  (0, 1, 2, 3, 4, 5, 6, 7)   \n",
       "9  (0, 1, 2, 3, 4, 5, 6, 7)   \n",
       "\n",
       "                                             Colores  Fitness  \n",
       "0  [blue, blue, red, blue, green, red, green, green]        4  \n",
       "1  [blue, green, green, red, blue, blue, blue, blue]        6  \n",
       "2  [blue, blue, blue, green, green, red, red, green]        6  \n",
       "3      [red, blue, red, blue, blue, red, red, green]        3  \n",
       "4  [green, blue, blue, green, blue, blue, red, gr...        2  \n",
       "5  [blue, blue, blue, green, red, green, red, green]        4  \n",
       "6      [red, red, green, red, blue, blue, red, blue]        3  \n",
       "7     [green, blue, red, red, red, blue, blue, blue]        4  \n",
       "8     [green, blue, red, red, blue, blue, blue, red]        5  \n",
       "9      [blue, blue, red, red, green, red, red, blue]        3  "
      ]
     },
     "execution_count": 227,
     "metadata": {},
     "output_type": "execute_result"
    }
   ],
   "source": [
    "df.head(10)"
   ]
  },
  {
   "cell_type": "code",
   "execution_count": 228,
   "metadata": {},
   "outputs": [
    {
     "data": {
      "text/html": [
       "<div>\n",
       "<style scoped>\n",
       "    .dataframe tbody tr th:only-of-type {\n",
       "        vertical-align: middle;\n",
       "    }\n",
       "\n",
       "    .dataframe tbody tr th {\n",
       "        vertical-align: top;\n",
       "    }\n",
       "\n",
       "    .dataframe thead th {\n",
       "        text-align: right;\n",
       "    }\n",
       "</style>\n",
       "<table border=\"1\" class=\"dataframe\">\n",
       "  <thead>\n",
       "    <tr style=\"text-align: right;\">\n",
       "      <th></th>\n",
       "      <th>Grafo</th>\n",
       "      <th>Colores</th>\n",
       "      <th>Fitness</th>\n",
       "    </tr>\n",
       "  </thead>\n",
       "  <tbody>\n",
       "    <tr>\n",
       "      <th>4</th>\n",
       "      <td>(0, 1, 2, 3, 4, 5, 6, 7)</td>\n",
       "      <td>[green, blue, blue, green, blue, blue, red, gr...</td>\n",
       "      <td>2</td>\n",
       "    </tr>\n",
       "    <tr>\n",
       "      <th>3</th>\n",
       "      <td>(0, 1, 2, 3, 4, 5, 6, 7)</td>\n",
       "      <td>[red, blue, red, blue, blue, red, red, green]</td>\n",
       "      <td>3</td>\n",
       "    </tr>\n",
       "  </tbody>\n",
       "</table>\n",
       "</div>"
      ],
      "text/plain": [
       "                      Grafo  \\\n",
       "4  (0, 1, 2, 3, 4, 5, 6, 7)   \n",
       "3  (0, 1, 2, 3, 4, 5, 6, 7)   \n",
       "\n",
       "                                             Colores  Fitness  \n",
       "4  [green, blue, blue, green, blue, blue, red, gr...        2  \n",
       "3      [red, blue, red, blue, blue, red, red, green]        3  "
      ]
     },
     "execution_count": 228,
     "metadata": {},
     "output_type": "execute_result"
    }
   ],
   "source": [
    "# Seleccionar los mejores cromosomas\n",
    "df_sorted = df.sort_values(by='Fitness').head(2)\n",
    "df_sorted"
   ]
  },
  {
   "cell_type": "code",
   "execution_count": 229,
   "metadata": {},
   "outputs": [
    {
     "data": {
      "text/plain": [
       "['green', 'blue', 'blue', 'green', 'blue', 'red', 'red', 'green']"
      ]
     },
     "execution_count": 229,
     "metadata": {},
     "output_type": "execute_result"
    }
   ],
   "source": [
    "# Obtener los colores de los dos grafos con menor fitness\n",
    "colores_padre_1 = df_sorted.iloc[0]['Colores']\n",
    "colores_padre_2 = df_sorted.iloc[1]['Colores']\n",
    "\n",
    "# Combinar la mitad de los colores de cada padre para formar el nuevo grafo\n",
    "nueva_lista_colores = colores_padre_1[:len(\n",
    "    colores_padre_1)//2] + colores_padre_2[len(colores_padre_2)//2:]\n",
    "\n",
    "nueva_lista_colores"
   ]
  },
  {
   "cell_type": "code",
   "execution_count": 230,
   "metadata": {},
   "outputs": [],
   "source": [
    "def colorear_nodos2(G, colores):\n",
    "    \"\"\"\n",
    "    Asigna colores de una lista a los nodos del grafo en orden.\n",
    "    \"\"\"\n",
    "    # Asegurar que hay suficientes colores para los nodos\n",
    "    if len(colores) < len(G.nodes()):\n",
    "        raise ValueError(\"No hay suficientes colores para todos los nodos\")\n",
    "\n",
    "    for nodo, color in zip(G.nodes(), colores):\n",
    "        G.nodes[nodo]['color'] = color\n",
    "\n",
    "    return G"
   ]
  },
  {
   "cell_type": "code",
   "execution_count": 231,
   "metadata": {},
   "outputs": [],
   "source": [
    "X = grafo_conectado(numero_vertices)"
   ]
  },
  {
   "cell_type": "code",
   "execution_count": 232,
   "metadata": {},
   "outputs": [],
   "source": [
    "X = colorear_nodos2(X, nueva_lista_colores)"
   ]
  },
  {
   "cell_type": "code",
   "execution_count": 233,
   "metadata": {},
   "outputs": [
    {
     "data": {
      "image/png": "[encoded data removed]",
      "text/plain": [
       "<Figure size 800x600 with 1 Axes>"
      ]
     },
     "metadata": {},
     "output_type": "display_data"
    }
   ],
   "source": [
    "dibujar_grafo(X, 'Grafo 0')"
   ]
  },
  {
   "cell_type": "code",
   "execution_count": 234,
   "metadata": {},
   "outputs": [
    {
     "data": {
      "text/plain": [
       "2"
      ]
     },
     "execution_count": 234,
     "metadata": {},
     "output_type": "execute_result"
    }
   ],
   "source": [
    "calcular_fitness(X)"
   ]
  },
  {
   "cell_type": "markdown",
   "metadata": {},
   "source": [
    "### Paso 7: Mutación"
   ]
  },
  {
   "cell_type": "code",
   "execution_count": 235,
   "metadata": {},
   "outputs": [],
   "source": [
    "def algoritmo_Brelaz(G):\n",
    "    \"\"\"\n",
    "    Aplica el algoritmo de Brelaz para colorear el grafo.\n",
    "    \"\"\"\n",
    "    # Inicializar el color de todos los nodos a None\n",
    "    color = {node: None for node in G.nodes()}\n",
    "\n",
    "    # Mientras haya nodos sin color\n",
    "    while None in color.values():\n",
    "        # Ordenar los nodos por grado de saturación y luego por grado\n",
    "        nodes = sorted(G.nodes(), key=lambda x: (sum(\n",
    "            color[neighbor] is not None for neighbor in G.neighbors(x)), G.degree(x)), reverse=True)\n",
    "        # Seleccionar el primer nodo que no tiene color\n",
    "        for node in nodes:\n",
    "            if color[node] is None:\n",
    "                break\n",
    "        # Encuentra el primer color que no utilizan los vértices adyacentes\n",
    "        for c in range(len(G.nodes())):\n",
    "            if all(color[neighbor] != c for neighbor in G.neighbors(node)):\n",
    "                color[node] = c\n",
    "                break\n",
    "\n",
    "    # Después de que todos los nodos han sido coloreados, calcular e imprimir el grado de saturación de cada nodo\n",
    "    for node in G.nodes():\n",
    "        saturation_degree = len(set(color[neighbor] for neighbor in G.neighbors(\n",
    "            node) if color[neighbor] is not None))\n",
    "        print(f\"El grado de saturación del nodo {node} es {saturation_degree}\")\n",
    "\n",
    "    return color"
   ]
  },
  {
   "cell_type": "code",
   "execution_count": 236,
   "metadata": {},
   "outputs": [],
   "source": [
    "def coloreo_brelaz(G, colores):\n",
    "    \"\"\"\n",
    "    Aplica el algoritmo de Brelaz para colorear el grafo.\n",
    "    \"\"\"\n",
    "    # Llamar a la función brelaz_algorithm\n",
    "    color = algoritmo_Brelaz(G)\n",
    "\n",
    "    # Asignar los colores al grafo\n",
    "    for vertex in color:\n",
    "        G.nodes[vertex]['color'] = colores[color[vertex] % len(colores)]\n",
    "\n",
    "    return G"
   ]
  },
  {
   "cell_type": "code",
   "execution_count": 237,
   "metadata": {},
   "outputs": [
    {
     "name": "stdout",
     "output_type": "stream",
     "text": [
      "El grado de saturación del nodo 0 es 2\n",
      "El grado de saturación del nodo 1 es 2\n",
      "El grado de saturación del nodo 2 es 2\n",
      "El grado de saturación del nodo 3 es 1\n",
      "El grado de saturación del nodo 4 es 2\n",
      "El grado de saturación del nodo 5 es 2\n",
      "El grado de saturación del nodo 6 es 2\n",
      "El grado de saturación del nodo 7 es 2\n"
     ]
    },
    {
     "data": {
      "text/plain": [
       "{0: 1, 1: 2, 2: 0, 3: 1, 4: 0, 5: 1, 6: 2, 7: 1}"
      ]
     },
     "execution_count": 237,
     "metadata": {},
     "output_type": "execute_result"
    }
   ],
   "source": [
    "algoritmo_Brelaz(X)"
   ]
  },
  {
   "cell_type": "code",
   "execution_count": 238,
   "metadata": {},
   "outputs": [
    {
     "name": "stdout",
     "output_type": "stream",
     "text": [
      "El grado de saturación del nodo 0 es 2\n",
      "El grado de saturación del nodo 1 es 2\n",
      "El grado de saturación del nodo 2 es 2\n",
      "El grado de saturación del nodo 3 es 1\n",
      "El grado de saturación del nodo 4 es 2\n",
      "El grado de saturación del nodo 5 es 2\n",
      "El grado de saturación del nodo 6 es 2\n",
      "El grado de saturación del nodo 7 es 2\n"
     ]
    }
   ],
   "source": [
    "Z = coloreo_brelaz(X, colores)"
   ]
  },
  {
   "cell_type": "code",
   "execution_count": 239,
   "metadata": {},
   "outputs": [
    {
     "data": {
      "image/png": "[encoded data removed]",
      "text/plain": [
       "<Figure size 800x600 with 1 Axes>"
      ]
     },
     "metadata": {},
     "output_type": "display_data"
    }
   ],
   "source": [
    "dibujar_grafo(Z, 'Grafo coloreado con Brelaz')"
   ]
  },
  {
   "cell_type": "code",
   "execution_count": 240,
   "metadata": {},
   "outputs": [
    {
     "data": {
      "text/plain": [
       "0"
      ]
     },
     "execution_count": 240,
     "metadata": {},
     "output_type": "execute_result"
    }
   ],
   "source": [
    "calcular_fitness(Z)"
   ]
  },
  {
   "cell_type": "code",
   "execution_count": 265,
   "metadata": {},
   "outputs": [
    {
     "data": {
      "text/plain": [
       "{<networkx.classes.graph.Graph at 0x183748ff7d0>: 0}"
      ]
     },
     "execution_count": 265,
     "metadata": {},
     "output_type": "execute_result"
    }
   ],
   "source": [
    "nuevo_diccionario = {}\n",
    "\n",
    "# Agrega el nuevo grafo Z con su fitness al diccionario\n",
    "nuevo_diccionario[Z] = calcular_fitness(Z)\n",
    "\n",
    "nuevo_diccionario\n"
   ]
  },
  {
   "cell_type": "code",
   "execution_count": 267,
   "metadata": {},
   "outputs": [
    {
     "data": {
      "text/plain": [
       "{<networkx.classes.graph.Graph at 0x18374961210>: 4,\n",
       " <networkx.classes.graph.Graph at 0x1836ff2fcd0>: 6,\n",
       " <networkx.classes.graph.Graph at 0x183748ba990>: 6,\n",
       " <networkx.classes.graph.Graph at 0x183748b9c90>: 3,\n",
       " <networkx.classes.graph.Graph at 0x183748bac90>: 2,\n",
       " <networkx.classes.graph.Graph at 0x183748d6dd0>: 4,\n",
       " <networkx.classes.graph.Graph at 0x183748d7f50>: 3,\n",
       " <networkx.classes.graph.Graph at 0x183748d7c50>: 4,\n",
       " <networkx.classes.graph.Graph at 0x183748d42d0>: 5,\n",
       " <networkx.classes.graph.Graph at 0x183749410d0>: 3}"
      ]
     },
     "execution_count": 267,
     "metadata": {},
     "output_type": "execute_result"
    }
   ],
   "source": [
    "nuevo_diccionario"
   ]
  },
  {
   "cell_type": "code",
   "execution_count": null,
   "metadata": {},
   "outputs": [],
   "source": []
  },
  {
   "cell_type": "markdown",
   "metadata": {},
   "source": [
    "# **Algorito Genetico**"
   ]
  }
 ],
 "metadata": {
  "kernelspec": {
   "display_name": "Python 3",
   "language": "python",
   "name": "python3"
  },
  "language_info": {
   "codemirror_mode": {
    "name": "ipython",
    "version": 3
   },
   "file_extension": ".py",
   "mimetype": "text/x-python",
   "name": "python",
   "nbconvert_exporter": "python",
   "pygments_lexer": "ipython3",
   "version": "3.11.9"
  }
 },
 "nbformat": 4,
 "nbformat_minor": 2
}
