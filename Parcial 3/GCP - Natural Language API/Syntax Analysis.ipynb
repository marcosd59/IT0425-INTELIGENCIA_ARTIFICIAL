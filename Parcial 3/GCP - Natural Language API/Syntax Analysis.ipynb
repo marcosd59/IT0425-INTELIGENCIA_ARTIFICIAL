{
 "cells": [
  {
   "cell_type": "markdown",
   "id": "e3921304-f734-4bc1-8d9c-1033157ca2d7",
   "metadata": {},
   "source": [
    "## Syntax Analysis"
   ]
  },
  {
   "cell_type": "code",
   "execution_count": 1,
   "id": "222ae38b-ca94-4666-9a3b-8f0cc907b320",
   "metadata": {
    "tags": []
   },
   "outputs": [],
   "source": [
    "import os\n",
    "import io\n",
    "\n",
    "from google.cloud import language_v1"
   ]
  },
  {
   "cell_type": "code",
   "execution_count": 2,
   "id": "53e44c4f-c59c-437a-95f6-187dc701548f",
   "metadata": {
    "tags": []
   },
   "outputs": [],
   "source": [
    "os.environ[\"PROJECT_ID\"] = \"api-lenguaje-natural-420718\""
   ]
  },
  {
   "cell_type": "markdown",
   "id": "2cca2fa1-2c61-4bda-9529-496aba3bcb9a",
   "metadata": {},
   "source": [
    "### Setting path to key.json as GOOGLE_APPLICATION_CREDENTIALS environment variable"
   ]
  },
  {
   "cell_type": "code",
   "execution_count": 3,
   "id": "4ad1d6e9-dfb8-450a-b4f3-ed28fae23504",
   "metadata": {
    "tags": []
   },
   "outputs": [],
   "source": [
    "os.environ[\"GOOGLE_APPLICATION_CREDENTIALS\"] = os.path.abspath(\"api-lenguaje-natural-420718-eecddb4058e9.json\")"
   ]
  },
  {
   "cell_type": "markdown",
   "id": "26190814-fef4-4c41-b52e-5236c8e7cee3",
   "metadata": {},
   "source": [
    "### Create a Google Cloud Natural Language api client object"
   ]
  },
  {
   "cell_type": "code",
   "execution_count": 4,
   "id": "9bb0eaa7-46c8-4e4b-8d72-91716b467cfc",
   "metadata": {
    "tags": []
   },
   "outputs": [],
   "source": [
    "language_client = language_v1.LanguageServiceClient()"
   ]
  },
  {
   "cell_type": "code",
   "execution_count": 5,
   "id": "9be7389e-bf88-4443-a767-da349d9e5c00",
   "metadata": {
    "tags": []
   },
   "outputs": [],
   "source": [
    "text = \"Google Cloud has wide range of machine learning APIs.\""
   ]
  },
  {
   "cell_type": "code",
   "execution_count": 6,
   "id": "403b9bde-8d25-472e-be46-839510d42a67",
   "metadata": {
    "tags": []
   },
   "outputs": [],
   "source": [
    "document = {'content': text, 'type_': language_v1.Document.Type.PLAIN_TEXT, 'language': 'en'}"
   ]
  },
  {
   "cell_type": "code",
   "execution_count": 7,
   "id": "f3f8ad91-87c5-4663-8b0f-a8b0ea6ad911",
   "metadata": {
    "tags": []
   },
   "outputs": [],
   "source": [
    "response  = language_client.analyze_syntax(request= {'document': document})"
   ]
  },
  {
   "cell_type": "code",
   "execution_count": 8,
   "id": "ecb6e7a7-3c6c-4a76-a6fb-1c7406682ff7",
   "metadata": {
    "tags": []
   },
   "outputs": [
    {
     "data": {
      "text/plain": [
       "sentences {\n",
       "  text {\n",
       "    content: \"Google Cloud has wide range of machine learning APIs.\"\n",
       "    begin_offset: -1\n",
       "  }\n",
       "}\n",
       "tokens {\n",
       "  text {\n",
       "    content: \"Google\"\n",
       "    begin_offset: -1\n",
       "  }\n",
       "  part_of_speech {\n",
       "    tag: NOUN\n",
       "    number: SINGULAR\n",
       "    proper: PROPER\n",
       "  }\n",
       "  dependency_edge {\n",
       "    head_token_index: 1\n",
       "    label: NN\n",
       "  }\n",
       "  lemma: \"Google\"\n",
       "}\n",
       "tokens {\n",
       "  text {\n",
       "    content: \"Cloud\"\n",
       "    begin_offset: -1\n",
       "  }\n",
       "  part_of_speech {\n",
       "    tag: NOUN\n",
       "    number: SINGULAR\n",
       "    proper: PROPER\n",
       "  }\n",
       "  dependency_edge {\n",
       "    head_token_index: 2\n",
       "    label: NSUBJ\n",
       "  }\n",
       "  lemma: \"Cloud\"\n",
       "}\n",
       "tokens {\n",
       "  text {\n",
       "    content: \"has\"\n",
       "    begin_offset: -1\n",
       "  }\n",
       "  part_of_speech {\n",
       "    tag: VERB\n",
       "    mood: INDICATIVE\n",
       "    number: SINGULAR\n",
       "    person: THIRD\n",
       "    tense: PRESENT\n",
       "  }\n",
       "  dependency_edge {\n",
       "    head_token_index: 2\n",
       "    label: ROOT\n",
       "  }\n",
       "  lemma: \"have\"\n",
       "}\n",
       "tokens {\n",
       "  text {\n",
       "    content: \"wide\"\n",
       "    begin_offset: -1\n",
       "  }\n",
       "  part_of_speech {\n",
       "    tag: ADJ\n",
       "  }\n",
       "  dependency_edge {\n",
       "    head_token_index: 4\n",
       "    label: AMOD\n",
       "  }\n",
       "  lemma: \"wide\"\n",
       "}\n",
       "tokens {\n",
       "  text {\n",
       "    content: \"range\"\n",
       "    begin_offset: -1\n",
       "  }\n",
       "  part_of_speech {\n",
       "    tag: NOUN\n",
       "    number: SINGULAR\n",
       "  }\n",
       "  dependency_edge {\n",
       "    head_token_index: 2\n",
       "    label: DOBJ\n",
       "  }\n",
       "  lemma: \"range\"\n",
       "}\n",
       "tokens {\n",
       "  text {\n",
       "    content: \"of\"\n",
       "    begin_offset: -1\n",
       "  }\n",
       "  part_of_speech {\n",
       "    tag: ADP\n",
       "  }\n",
       "  dependency_edge {\n",
       "    head_token_index: 4\n",
       "    label: PREP\n",
       "  }\n",
       "  lemma: \"of\"\n",
       "}\n",
       "tokens {\n",
       "  text {\n",
       "    content: \"machine\"\n",
       "    begin_offset: -1\n",
       "  }\n",
       "  part_of_speech {\n",
       "    tag: NOUN\n",
       "    number: SINGULAR\n",
       "  }\n",
       "  dependency_edge {\n",
       "    head_token_index: 7\n",
       "    label: NN\n",
       "  }\n",
       "  lemma: \"machine\"\n",
       "}\n",
       "tokens {\n",
       "  text {\n",
       "    content: \"learning\"\n",
       "    begin_offset: -1\n",
       "  }\n",
       "  part_of_speech {\n",
       "    tag: NOUN\n",
       "    number: SINGULAR\n",
       "  }\n",
       "  dependency_edge {\n",
       "    head_token_index: 8\n",
       "    label: NN\n",
       "  }\n",
       "  lemma: \"learning\"\n",
       "}\n",
       "tokens {\n",
       "  text {\n",
       "    content: \"APIs\"\n",
       "    begin_offset: -1\n",
       "  }\n",
       "  part_of_speech {\n",
       "    tag: NOUN\n",
       "    number: SINGULAR\n",
       "  }\n",
       "  dependency_edge {\n",
       "    head_token_index: 5\n",
       "    label: POBJ\n",
       "  }\n",
       "  lemma: \"api\"\n",
       "}\n",
       "tokens {\n",
       "  text {\n",
       "    content: \".\"\n",
       "    begin_offset: -1\n",
       "  }\n",
       "  part_of_speech {\n",
       "    tag: PUNCT\n",
       "  }\n",
       "  dependency_edge {\n",
       "    head_token_index: 2\n",
       "    label: P\n",
       "  }\n",
       "  lemma: \".\"\n",
       "}\n",
       "language: \"en\""
      ]
     },
     "execution_count": 8,
     "metadata": {},
     "output_type": "execute_result"
    }
   ],
   "source": [
    "response"
   ]
  },
  {
   "cell_type": "code",
   "execution_count": null,
   "id": "38aa5670-f1ae-41e9-92cd-be3403ad0295",
   "metadata": {},
   "outputs": [],
   "source": []
  }
 ],
 "metadata": {
  "environment": {
   "kernel": "python3",
   "name": "tf2-cpu.2-11.m119",
   "type": "gcloud",
   "uri": "us-docker.pkg.dev/deeplearning-platform-release/gcr.io/tf2-cpu.2-11:m119"
  },
  "kernelspec": {
   "display_name": "Python 3",
   "language": "python",
   "name": "python3"
  },
  "language_info": {
   "codemirror_mode": {
    "name": "ipython",
    "version": 3
   },
   "file_extension": ".py",
   "mimetype": "text/x-python",
   "name": "python",
   "nbconvert_exporter": "python",
   "pygments_lexer": "ipython3",
   "version": "3.10.14"
  }
 },
 "nbformat": 4,
 "nbformat_minor": 5
}
