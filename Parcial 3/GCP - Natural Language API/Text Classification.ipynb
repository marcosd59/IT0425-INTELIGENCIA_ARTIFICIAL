{
 "cells": [
  {
   "cell_type": "markdown",
   "id": "51a42169-6506-40b0-9be9-4b20ddc7f512",
   "metadata": {},
   "source": [
    "## Text Classification"
   ]
  },
  {
   "cell_type": "code",
   "execution_count": 1,
   "id": "a0210a7c-1e94-4786-bb30-78c2f5bd9d4b",
   "metadata": {
    "tags": []
   },
   "outputs": [],
   "source": [
    "import os\n",
    "import io\n",
    "\n",
    "from google.cloud import language_v1"
   ]
  },
  {
   "cell_type": "code",
   "execution_count": 2,
   "id": "74ae5d1b-f327-452b-856c-aed10e7d9a4a",
   "metadata": {
    "tags": []
   },
   "outputs": [],
   "source": [
    "os.environ[\"PROJECT_ID\"] = \"api-lenguaje-natural-420718\""
   ]
  },
  {
   "cell_type": "markdown",
   "id": "93860c79-d6f6-4b28-8eb7-1bedabddbc02",
   "metadata": {},
   "source": [
    "### Setting path to key.json as GOOGLE_APPLICATION_CREDENTIALS environment variable"
   ]
  },
  {
   "cell_type": "code",
   "execution_count": 3,
   "id": "c6cd720e-8af8-48ed-9b24-56caadea8478",
   "metadata": {
    "tags": []
   },
   "outputs": [],
   "source": [
    "os.environ[\"GOOGLE_APPLICATION_CREDENTIALS\"] = os.path.abspath(\"api-lenguaje-natural-420718-eecddb4058e9.json\")"
   ]
  },
  {
   "cell_type": "markdown",
   "id": "8e151c18-18d7-4816-8ba2-5073e9e3d510",
   "metadata": {},
   "source": [
    "### Create a Google Cloud Natural Language api client object"
   ]
  },
  {
   "cell_type": "code",
   "execution_count": 4,
   "id": "95c956a9-834a-4336-bd4c-de888f9701de",
   "metadata": {
    "tags": []
   },
   "outputs": [],
   "source": [
    "language_client = language_v1.LanguageServiceClient()"
   ]
  },
  {
   "cell_type": "code",
   "execution_count": 5,
   "id": "77d8584f-1b1a-493f-86ae-ff491b736144",
   "metadata": {
    "tags": []
   },
   "outputs": [],
   "source": [
    "text = \"China has started shutting down schools, cancelling hundreds of \\\n",
    "        flights and ramping up mass testings following a new outbreak of \\\n",
    "        Covid-19\""
   ]
  },
  {
   "cell_type": "code",
   "execution_count": 6,
   "id": "57420d7e-83a9-4e41-b176-755d92f63877",
   "metadata": {
    "tags": []
   },
   "outputs": [],
   "source": [
    "document = {'content': text, 'type_': language_v1.Document.Type.PLAIN_TEXT, 'language': 'en'}"
   ]
  },
  {
   "cell_type": "code",
   "execution_count": 7,
   "id": "775ad957-ba22-485c-9c57-21585e4054a7",
   "metadata": {
    "tags": []
   },
   "outputs": [],
   "source": [
    "response = language_client.classify_text(request= {'document': document})"
   ]
  },
  {
   "cell_type": "code",
   "execution_count": 8,
   "id": "fb0dc892-cd75-4c66-b866-403e2b1826f0",
   "metadata": {
    "tags": []
   },
   "outputs": [
    {
     "data": {
      "text/plain": [
       "categories {\n",
       "  name: \"/Travel/Air Travel\"\n",
       "  confidence: 0.8999999761581421\n",
       "}"
      ]
     },
     "execution_count": 8,
     "metadata": {},
     "output_type": "execute_result"
    }
   ],
   "source": [
    "response"
   ]
  },
  {
   "cell_type": "markdown",
   "id": "acdb8378-ba75-4718-831b-db81f8932fe8",
   "metadata": {},
   "source": [
    "Example 2:"
   ]
  },
  {
   "cell_type": "code",
   "execution_count": 9,
   "id": "84bf1574-43bf-4909-8314-342bd2ced894",
   "metadata": {
    "tags": []
   },
   "outputs": [],
   "source": [
    "text = \"Mangoes are one of the tastiest fruits out there. I mean, \\\n",
    "        who doesn't like mangoes?. There are a lot of different types \\\n",
    "        of mangoes. Each of them look and taste slightly different.\""
   ]
  },
  {
   "cell_type": "code",
   "execution_count": 10,
   "id": "55ae34b8-90e5-459b-a379-e6843c8305af",
   "metadata": {
    "tags": []
   },
   "outputs": [],
   "source": [
    "document = {'content': text, 'type_': language_v1.Document.Type.PLAIN_TEXT, 'language': 'en'}"
   ]
  },
  {
   "cell_type": "code",
   "execution_count": 11,
   "id": "231cfc63-6e73-4b7f-a4b2-a2a97504ebbf",
   "metadata": {
    "tags": []
   },
   "outputs": [],
   "source": [
    "response = language_client.classify_text(request= {'document': document})"
   ]
  },
  {
   "cell_type": "code",
   "execution_count": 12,
   "id": "15a78b2a-0293-4159-be1e-6dd44f1971f0",
   "metadata": {
    "tags": []
   },
   "outputs": [
    {
     "data": {
      "text/plain": [
       "categories {\n",
       "  name: \"/Food & Drink/Food\"\n",
       "  confidence: 0.9800000190734863\n",
       "}"
      ]
     },
     "execution_count": 12,
     "metadata": {},
     "output_type": "execute_result"
    }
   ],
   "source": [
    "response"
   ]
  }
 ],
 "metadata": {
  "environment": {
   "kernel": "python3",
   "name": "tf2-cpu.2-11.m119",
   "type": "gcloud",
   "uri": "us-docker.pkg.dev/deeplearning-platform-release/gcr.io/tf2-cpu.2-11:m119"
  },
  "kernelspec": {
   "display_name": "Python 3",
   "language": "python",
   "name": "python3"
  },
  "language_info": {
   "codemirror_mode": {
    "name": "ipython",
    "version": 3
   },
   "file_extension": ".py",
   "mimetype": "text/x-python",
   "name": "python",
   "nbconvert_exporter": "python",
   "pygments_lexer": "ipython3",
   "version": "3.10.14"
  }
 },
 "nbformat": 4,
 "nbformat_minor": 5
}
