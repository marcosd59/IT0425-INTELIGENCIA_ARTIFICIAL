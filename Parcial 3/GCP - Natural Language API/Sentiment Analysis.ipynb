{
 "cells": [
  {
   "cell_type": "markdown",
   "id": "aa95bc93-2e05-45a2-baf7-b21942187f65",
   "metadata": {},
   "source": [
    "## Sentiment Analysis"
   ]
  },
  {
   "cell_type": "code",
   "execution_count": 15,
   "id": "a134a265-5a01-485f-9ecd-d1a5245565f1",
   "metadata": {
    "tags": []
   },
   "outputs": [],
   "source": [
    "import os\n",
    "import io\n",
    "\n",
    "from google.cloud import language_v1"
   ]
  },
  {
   "cell_type": "code",
   "execution_count": 16,
   "id": "71f37a8f-2cbb-4591-972a-ccb4c8978787",
   "metadata": {
    "tags": []
   },
   "outputs": [],
   "source": [
    "os.environ[\"PROJECT_ID\"] = \"api-lenguaje-natural-420718\""
   ]
  },
  {
   "cell_type": "markdown",
   "id": "5a3968cc-4ab6-4740-89d7-09d60540a475",
   "metadata": {},
   "source": [
    "### Setting path to key.json as GOOGLE_APPLICATION_CREDENTIALS environment variable"
   ]
  },
  {
   "cell_type": "code",
   "execution_count": 17,
   "id": "5f0f2424-f092-4238-bcdf-f4cd39a99528",
   "metadata": {
    "tags": []
   },
   "outputs": [],
   "source": [
    "os.environ[\"GOOGLE_APPLICATION_CREDENTIALS\"] = os.path.abspath(\"api-lenguaje-natural-420718-eecddb4058e9.json\")"
   ]
  },
  {
   "cell_type": "markdown",
   "id": "897bfa33-efbf-491c-8fb7-0be44b52ae42",
   "metadata": {},
   "source": [
    "### Create a Google Cloud Natural Language api client object"
   ]
  },
  {
   "cell_type": "code",
   "execution_count": 4,
   "id": "fcbce0de-0248-46b8-9689-944022e3119e",
   "metadata": {
    "tags": []
   },
   "outputs": [],
   "source": [
    "language_client = language_v1.LanguageServiceClient()"
   ]
  },
  {
   "cell_type": "markdown",
   "id": "228d3610-f2bd-4ee7-8f75-7ade8d7ef019",
   "metadata": {},
   "source": [
    "#### Positive Example"
   ]
  },
  {
   "cell_type": "code",
   "execution_count": 5,
   "id": "2a8a18b1-c79d-4c84-a6ea-9a5509cb0cb0",
   "metadata": {
    "tags": []
   },
   "outputs": [],
   "source": [
    "# input text\n",
    "text = \"This movie is so good. Loved every second of it !!\""
   ]
  },
  {
   "cell_type": "code",
   "execution_count": 6,
   "id": "6c5a228c-3852-4627-9009-827a9937b9c6",
   "metadata": {
    "tags": []
   },
   "outputs": [],
   "source": [
    "document = {'content': text, 'type_': language_v1.Document.Type.PLAIN_TEXT, 'language': 'en'}"
   ]
  },
  {
   "cell_type": "code",
   "execution_count": 7,
   "id": "fd55dc1a-f410-4d32-a4b9-8af865771315",
   "metadata": {
    "tags": []
   },
   "outputs": [],
   "source": [
    "response  = language_client.analyze_sentiment(request= {'document': document})"
   ]
  },
  {
   "cell_type": "code",
   "execution_count": 8,
   "id": "b975a75a-ffa6-4510-b8a4-dcd5cb06c121",
   "metadata": {
    "tags": []
   },
   "outputs": [
    {
     "data": {
      "text/plain": [
       "magnitude: 1.899999976158142\n",
       "score: 0.8999999761581421"
      ]
     },
     "execution_count": 8,
     "metadata": {},
     "output_type": "execute_result"
    }
   ],
   "source": [
    "# Document Sentiment\n",
    "response.document_sentiment"
   ]
  },
  {
   "cell_type": "code",
   "execution_count": 9,
   "id": "5403f2f4-13a1-4e1d-8392-04b8934dd3d8",
   "metadata": {
    "tags": []
   },
   "outputs": [
    {
     "name": "stdout",
     "output_type": "stream",
     "text": [
      "Text: \n",
      "This movie is so good.\n",
      "Sentiment: \n",
      "magnitude: 0.8999999761581421\n",
      "score: 0.8999999761581421\n",
      "\n",
      "Text: \n",
      "Loved every second of it !!\n",
      "Sentiment: \n",
      "magnitude: 0.8999999761581421\n",
      "score: 0.8999999761581421\n",
      "\n"
     ]
    }
   ],
   "source": [
    "# Sentiments for each sentence in the input text\n",
    "for sentence in response.sentences:\n",
    "    print(\"Text: \")\n",
    "    print(sentence.text.content)\n",
    "    print(\"Sentiment: \")\n",
    "    print(sentence.sentiment)"
   ]
  },
  {
   "cell_type": "markdown",
   "id": "43c68b88-d670-494c-87b0-9f91555c1a24",
   "metadata": {},
   "source": [
    "#### Negative Example"
   ]
  },
  {
   "cell_type": "code",
   "execution_count": 10,
   "id": "e4c9b28b-6d56-4588-8046-9ed889d71c84",
   "metadata": {
    "tags": []
   },
   "outputs": [],
   "source": [
    "# input text\n",
    "text = \"One of the worst movies ever!!. Please don't waste your time watching it..\""
   ]
  },
  {
   "cell_type": "code",
   "execution_count": 11,
   "id": "2197a0db-3a65-433a-a0bb-2d3a6f143354",
   "metadata": {
    "tags": []
   },
   "outputs": [],
   "source": [
    "document = {'content': text, 'type_': language_v1.Document.Type.PLAIN_TEXT, 'language': 'en'}"
   ]
  },
  {
   "cell_type": "code",
   "execution_count": 12,
   "id": "1125916a-5ac1-4350-b363-ada7b503bcb3",
   "metadata": {
    "tags": []
   },
   "outputs": [],
   "source": [
    "response  = language_client.analyze_sentiment(request= {'document': document})"
   ]
  },
  {
   "cell_type": "code",
   "execution_count": 13,
   "id": "b9175f41-1921-45f4-acc6-35769800b7f0",
   "metadata": {
    "tags": []
   },
   "outputs": [
    {
     "data": {
      "text/plain": [
       "magnitude: 1.5\n",
       "score: -0.699999988079071"
      ]
     },
     "execution_count": 13,
     "metadata": {},
     "output_type": "execute_result"
    }
   ],
   "source": [
    "# Document Sentiment\n",
    "response.document_sentiment"
   ]
  },
  {
   "cell_type": "code",
   "execution_count": 14,
   "id": "c0245ddd-768c-489d-8311-5ba0596df772",
   "metadata": {
    "tags": []
   },
   "outputs": [
    {
     "name": "stdout",
     "output_type": "stream",
     "text": [
      "Text: \n",
      "One of the worst movies ever!!.\n",
      "Sentiment: \n",
      "magnitude: 0.800000011920929\n",
      "score: -0.800000011920929\n",
      "\n",
      "Text: \n",
      "Please don't waste your time watching it..\n",
      "Sentiment: \n",
      "magnitude: 0.699999988079071\n",
      "score: -0.699999988079071\n",
      "\n"
     ]
    }
   ],
   "source": [
    "# Sentiments for each sentence in the input text\n",
    "for sentence in response.sentences:\n",
    "    print(\"Text: \")\n",
    "    print(sentence.text.content)\n",
    "    print(\"Sentiment: \")\n",
    "    print(sentence.sentiment)"
   ]
  },
  {
   "cell_type": "code",
   "execution_count": null,
   "id": "5c877276-9d78-44be-835a-3cec95f85f1e",
   "metadata": {},
   "outputs": [],
   "source": []
  }
 ],
 "metadata": {
  "environment": {
   "kernel": "python3",
   "name": "tf2-cpu.2-11.m119",
   "type": "gcloud",
   "uri": "us-docker.pkg.dev/deeplearning-platform-release/gcr.io/tf2-cpu.2-11:m119"
  },
  "kernelspec": {
   "display_name": "Python 3",
   "language": "python",
   "name": "python3"
  },
  "language_info": {
   "codemirror_mode": {
    "name": "ipython",
    "version": 3
   },
   "file_extension": ".py",
   "mimetype": "text/x-python",
   "name": "python",
   "nbconvert_exporter": "python",
   "pygments_lexer": "ipython3",
   "version": "3.10.14"
  }
 },
 "nbformat": 4,
 "nbformat_minor": 5
}
