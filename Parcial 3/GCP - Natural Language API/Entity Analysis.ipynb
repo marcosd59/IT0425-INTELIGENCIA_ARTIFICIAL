{
 "cells": [
  {
   "cell_type": "code",
   "execution_count": 20,
   "id": "467fc9a8-da3d-45fe-a200-8504a3750fd2",
   "metadata": {
    "tags": []
   },
   "outputs": [],
   "source": [
    "# %pip install google-cloud-language==2.3.0"
   ]
  },
  {
   "cell_type": "markdown",
   "id": "ffb06ad0-93b2-4a22-8710-5346580c3e1b",
   "metadata": {},
   "source": [
    "## Natural Language API"
   ]
  },
  {
   "cell_type": "code",
   "execution_count": 9,
   "id": "5b8c7b1b-bfc0-48b1-9a53-37de1e33dcd5",
   "metadata": {
    "tags": []
   },
   "outputs": [],
   "source": [
    "import os\n",
    "import io\n",
    "\n",
    "from google.cloud import language_v1"
   ]
  },
  {
   "cell_type": "code",
   "execution_count": 10,
   "id": "7e1101da-514f-439a-812f-07c8ded368a1",
   "metadata": {
    "tags": []
   },
   "outputs": [],
   "source": [
    "os.environ[\"PROJECT_ID\"] = \"api-lenguaje-natural-420718\""
   ]
  },
  {
   "cell_type": "markdown",
   "id": "e3e10540-1b93-4fd1-8c51-1515fb0034f1",
   "metadata": {},
   "source": [
    "### Setting path to key.json as GOOGLE_APPLICATION_CREDENTIALS environment variable"
   ]
  },
  {
   "cell_type": "code",
   "execution_count": 11,
   "id": "9aa78e49-d2fe-49dc-825a-b8346ad884c5",
   "metadata": {
    "tags": []
   },
   "outputs": [],
   "source": [
    "os.environ[\"GOOGLE_APPLICATION_CREDENTIALS\"] = os.path.abspath(\"api-lenguaje-natural-420718-eecddb4058e9.json\")"
   ]
  },
  {
   "cell_type": "markdown",
   "id": "64682e96-6de2-4335-9230-79717ba0173d",
   "metadata": {},
   "source": [
    "### Create a Google Cloud Natural Language api client object"
   ]
  },
  {
   "cell_type": "code",
   "execution_count": 12,
   "id": "be992c6c-6af8-4b9b-a00d-fbd1012c3e2a",
   "metadata": {
    "tags": []
   },
   "outputs": [],
   "source": [
    "language_client = language_v1.LanguageServiceClient()"
   ]
  },
  {
   "cell_type": "code",
   "execution_count": 16,
   "id": "512ba2c9-74b9-4aa6-83ae-5ca8e1dc987b",
   "metadata": {
    "tags": []
   },
   "outputs": [],
   "source": [
    "text = \"Google Cloud has wide range of machine learning APIs.\""
   ]
  },
  {
   "cell_type": "code",
   "execution_count": 17,
   "id": "26631ab8-0a13-4f11-887f-53708438f022",
   "metadata": {
    "tags": []
   },
   "outputs": [],
   "source": [
    "document = {'content': text, 'type_': language_v1.Document.Type.PLAIN_TEXT, 'language': 'en'}"
   ]
  },
  {
   "cell_type": "code",
   "execution_count": 18,
   "id": "67a1d433-6a7e-415a-b048-ff607e013797",
   "metadata": {
    "tags": []
   },
   "outputs": [],
   "source": [
    "response  = language_client.analyze_entities(request= {'document': document})"
   ]
  },
  {
   "cell_type": "code",
   "execution_count": 19,
   "id": "33e01aa7-e5f0-4947-8653-55eae4616778",
   "metadata": {
    "tags": []
   },
   "outputs": [
    {
     "data": {
      "text/plain": [
       "entities {\n",
       "  name: \"Google Cloud\"\n",
       "  type_: OTHER\n",
       "  metadata {\n",
       "    key: \"mid\"\n",
       "    value: \"/m/0105pbj4\"\n",
       "  }\n",
       "  metadata {\n",
       "    key: \"wikipedia_url\"\n",
       "    value: \"https://en.wikipedia.org/wiki/Google_Cloud_Platform\"\n",
       "  }\n",
       "  salience: 0.5621581673622131\n",
       "  mentions {\n",
       "    text {\n",
       "      content: \"Google Cloud\"\n",
       "      begin_offset: -1\n",
       "    }\n",
       "    type_: PROPER\n",
       "  }\n",
       "}\n",
       "entities {\n",
       "  name: \"range\"\n",
       "  type_: OTHER\n",
       "  salience: 0.25460705161094666\n",
       "  mentions {\n",
       "    text {\n",
       "      content: \"range\"\n",
       "      begin_offset: -1\n",
       "    }\n",
       "    type_: COMMON\n",
       "  }\n",
       "}\n",
       "entities {\n",
       "  name: \"machine learning APIs\"\n",
       "  type_: CONSUMER_GOOD\n",
       "  salience: 0.1832347959280014\n",
       "  mentions {\n",
       "    text {\n",
       "      content: \"machine learning APIs\"\n",
       "      begin_offset: -1\n",
       "    }\n",
       "    type_: COMMON\n",
       "  }\n",
       "}\n",
       "language: \"en\""
      ]
     },
     "execution_count": 19,
     "metadata": {},
     "output_type": "execute_result"
    }
   ],
   "source": [
    "response"
   ]
  }
 ],
 "metadata": {
  "environment": {
   "kernel": "python3",
   "name": "tf2-cpu.2-11.m119",
   "type": "gcloud",
   "uri": "us-docker.pkg.dev/deeplearning-platform-release/gcr.io/tf2-cpu.2-11:m119"
  },
  "kernelspec": {
   "display_name": "Python 3",
   "language": "python",
   "name": "python3"
  },
  "language_info": {
   "codemirror_mode": {
    "name": "ipython",
    "version": 3
   },
   "file_extension": ".py",
   "mimetype": "text/x-python",
   "name": "python",
   "nbconvert_exporter": "python",
   "pygments_lexer": "ipython3",
   "version": "3.10.14"
  }
 },
 "nbformat": 4,
 "nbformat_minor": 5
}
