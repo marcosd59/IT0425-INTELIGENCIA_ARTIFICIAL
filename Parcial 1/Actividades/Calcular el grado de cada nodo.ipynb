{
  "cells": [
    {
      "cell_type": "markdown",
      "metadata": {
        "id": "Jrrpx20GMEFM"
      },
      "source": [
        "Programa elaborado por Marcos Damian y Oscar Ruiz"
      ]
    },
    {
      "cell_type": "code",
      "execution_count": 1,
      "metadata": {
        "id": "AEryW4m1MS7T"
      },
      "outputs": [],
      "source": [
        "import matplotlib.pyplot as plt\n",
        "import networkx as nx\n"
      ]
    },
    {
      "cell_type": "code",
      "execution_count": 2,
      "metadata": {
        "colab": {
          "base_uri": "https://localhost:8080/",
          "height": 585
        },
        "id": "cQE5ZIHHL0sK",
        "outputId": "80ce4329-676d-40f6-a634-cf1fcf5ba2d0"
      },
      "outputs": [
        {
          "data": {
            "image/png": "[encoded data removed]",
            "text/plain": [
              "<Figure size 640x480 with 1 Axes>"
            ]
          },
          "metadata": {},
          "output_type": "display_data"
        },
        {
          "name": "stdout",
          "output_type": "stream",
          "text": [
            "Nodo 1: Grado 2\n",
            "Nodo 2: Grado 2\n",
            "Nodo 3: Grado 2\n",
            "Nodo 4: Grado 2\n"
          ]
        }
      ],
      "source": [
        "\n",
        "# Función para crear y mostrar un grafo\n",
        "def create_and_show_graph(num_nodes):\n",
        "    # Crear un grafo vacío\n",
        "    G = nx.Graph()\n",
        "\n",
        "    # Añadir nodos al grafo y conectar cada nodo con el siguiente\n",
        "    for i in range(1, num_nodes + 1):\n",
        "        G.add_node(i)\n",
        "        if i > 1:\n",
        "            G.add_edge(i, i - 1)\n",
        "\n",
        "    # Conectar el último nodo con el primero para garantizar al menos una conexión por nodo\n",
        "    if num_nodes > 1:\n",
        "        G.add_edge(num_nodes, 1)\n",
        "\n",
        "    # Dibujar el grafo\n",
        "    pos = nx.circular_layout(G)  # Posiciona los nodos en un patrón circular\n",
        "    nx.draw(G, pos, with_labels=True)\n",
        "\n",
        "    # Mostrar el gráfico\n",
        "    plt.show()\n",
        "\n",
        "    # Mostrar el grado de cada nodo\n",
        "    for node in G.nodes:\n",
        "        print(f\"Nodo {node}: Grado {G.degree[node]}\")\n",
        "\n",
        "# Pedir al usuario que ingrese el número de nodos\n",
        "num_nodes = int(input(\"Ingrese el número de nodos para el grafo: \"))\n",
        "\n",
        "# Llamar a la función con el número de nodos ingresado\n",
        "create_and_show_graph(num_nodes)"
      ]
    }
  ],
  "metadata": {
    "colab": {
      "provenance": []
    },
    "kernelspec": {
      "display_name": "Python 3",
      "name": "python3"
    },
    "language_info": {
      "codemirror_mode": {
        "name": "ipython",
        "version": 3
      },
      "file_extension": ".py",
      "mimetype": "text/x-python",
      "name": "python",
      "nbconvert_exporter": "python",
      "pygments_lexer": "ipython3",
      "version": "3.11.7"
    }
  },
  "nbformat": 4,
  "nbformat_minor": 0
}
