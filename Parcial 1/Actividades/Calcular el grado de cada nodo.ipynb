{
  "nbformat": 4,
  "nbformat_minor": 0,
  "metadata": {
    "colab": {
      "provenance": []
    },
    "kernelspec": {
      "name": "python3",
      "display_name": "Python 3"
    },
    "language_info": {
      "name": "python"
    }
  },
  "cells": [
    {
      "cell_type": "markdown",
      "source": [
        "Programa elaborado por Marcos Damian y Oscar Ruiz"
      ],
      "metadata": {
        "id": "Jrrpx20GMEFM"
      }
    },
    {
      "cell_type": "code",
      "source": [
        "import matplotlib.pyplot as plt\n",
        "import networkx as nx\n"
      ],
      "metadata": {
        "id": "AEryW4m1MS7T"
      },
      "execution_count": 2,
      "outputs": []
    },
    {
      "cell_type": "code",
      "execution_count": 1,
      "metadata": {
        "colab": {
          "base_uri": "https://localhost:8080/",
          "height": 585
        },
        "id": "cQE5ZIHHL0sK",
        "outputId": "80ce4329-676d-40f6-a634-cf1fcf5ba2d0"
      },
      "outputs": [
        {
          "name": "stdout",
          "output_type": "stream",
          "text": [
            "Ingrese el número de nodos para el grafo: 3\n"
          ]
        },
        {
          "output_type": "display_data",
          "data": {
            "text/plain": [
              "<Figure size 640x480 with 1 Axes>"
            ],
            "image/png": "[encoded data removed]"
          },
          "metadata": {}
        },
        {
          "output_type": "stream",
          "name": "stdout",
          "text": [
            "Nodo 1: Grado 2\n",
            "Nodo 2: Grado 2\n",
            "Nodo 3: Grado 2\n"
          ]
        }
      ],
      "source": [
        "\n",
        "# Función para crear y mostrar un grafo\n",
        "def create_and_show_graph(num_nodes):\n",
        "    # Crear un grafo vacío\n",
        "    G = nx.Graph()\n",
        "\n",
        "    # Añadir nodos al grafo y conectar cada nodo con el siguiente\n",
        "    for i in range(1, num_nodes + 1):\n",
        "        G.add_node(i)\n",
        "        if i > 1:\n",
        "            G.add_edge(i, i - 1)\n",
        "\n",
        "    # Conectar el último nodo con el primero para garantizar al menos una conexión por nodo\n",
        "    if num_nodes > 1:\n",
        "        G.add_edge(num_nodes, 1)\n",
        "\n",
        "    # Dibujar el grafo\n",
        "    pos = nx.circular_layout(G)  # Posiciona los nodos en un patrón circular\n",
        "    nx.draw(G, pos, with_labels=True)\n",
        "\n",
        "    # Mostrar el gráfico\n",
        "    plt.show()\n",
        "\n",
        "    # Mostrar el grado de cada nodo\n",
        "    for node in G.nodes:\n",
        "        print(f\"Nodo {node}: Grado {G.degree[node]}\")\n",
        "\n",
        "# Pedir al usuario que ingrese el número de nodos\n",
        "num_nodes = int(input(\"Ingrese el número de nodos para el grafo: \"))\n",
        "\n",
        "# Llamar a la función con el número de nodos ingresado\n",
        "create_and_show_graph(num_nodes)"
      ]
    }
  ]
}