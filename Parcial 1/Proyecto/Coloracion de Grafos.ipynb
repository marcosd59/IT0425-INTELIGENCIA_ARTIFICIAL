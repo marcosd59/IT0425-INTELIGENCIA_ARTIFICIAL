{
 "cells": [
  {
   "cell_type": "markdown",
   "metadata": {},
   "source": [
    "# Coloreado de grafos"
   ]
  },
  {
   "cell_type": "markdown",
   "metadata": {},
   "source": [
    "## Integrantes\n",
    "\n",
    "1. **Marcos Damián Pool Canul. 200300591@ucaribe.edu.mx**\n",
    "\n",
    "2. **Oscar Manuel Ruiz Reyes. 190300392@ucaribe.edu.mx**\n",
    "\n",
    "***Profesor: Ricardo Armando Ruíz Hernández***"
   ]
  },
  {
   "cell_type": "code",
   "execution_count": null,
   "metadata": {},
   "outputs": [],
   "source": []
  }
 ],
 "metadata": {
  "language_info": {
   "name": "python"
  }
 },
 "nbformat": 4,
 "nbformat_minor": 2
}
